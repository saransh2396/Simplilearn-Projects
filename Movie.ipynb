{
 "cells": [
  {
   "cell_type": "code",
   "execution_count": 1,
   "metadata": {},
   "outputs": [],
   "source": [
    "import numpy as np\n",
    "import pandas as pd\n",
    "import matplotlib.pyplot as plt\n",
    "import seaborn as sns"
   ]
  },
  {
   "cell_type": "code",
   "execution_count": 2,
   "metadata": {},
   "outputs": [],
   "source": [
    "import warnings\n",
    "warnings.filterwarnings('ignore')"
   ]
  },
  {
   "cell_type": "markdown",
   "metadata": {},
   "source": [
    "Import the three datasets"
   ]
  },
  {
   "cell_type": "code",
   "execution_count": 3,
   "metadata": {},
   "outputs": [
    {
     "data": {
      "text/html": [
       "<div>\n",
       "<style scoped>\n",
       "    .dataframe tbody tr th:only-of-type {\n",
       "        vertical-align: middle;\n",
       "    }\n",
       "\n",
       "    .dataframe tbody tr th {\n",
       "        vertical-align: top;\n",
       "    }\n",
       "\n",
       "    .dataframe thead th {\n",
       "        text-align: right;\n",
       "    }\n",
       "</style>\n",
       "<table border=\"1\" class=\"dataframe\">\n",
       "  <thead>\n",
       "    <tr style=\"text-align: right;\">\n",
       "      <th></th>\n",
       "      <th>MovieID</th>\n",
       "      <th>Title</th>\n",
       "      <th>Genres</th>\n",
       "    </tr>\n",
       "  </thead>\n",
       "  <tbody>\n",
       "    <tr>\n",
       "      <th>0</th>\n",
       "      <td>ï»¿1</td>\n",
       "      <td>Toy Story (1995)</td>\n",
       "      <td>Animation|Children's|Comedy</td>\n",
       "    </tr>\n",
       "    <tr>\n",
       "      <th>1</th>\n",
       "      <td>2</td>\n",
       "      <td>Jumanji (1995)</td>\n",
       "      <td>Adventure|Children's|Fantasy</td>\n",
       "    </tr>\n",
       "    <tr>\n",
       "      <th>2</th>\n",
       "      <td>3</td>\n",
       "      <td>Grumpier Old Men (1995)</td>\n",
       "      <td>Comedy|Romance</td>\n",
       "    </tr>\n",
       "    <tr>\n",
       "      <th>3</th>\n",
       "      <td>4</td>\n",
       "      <td>Waiting to Exhale (1995)</td>\n",
       "      <td>Comedy|Drama</td>\n",
       "    </tr>\n",
       "    <tr>\n",
       "      <th>4</th>\n",
       "      <td>5</td>\n",
       "      <td>Father of the Bride Part II (1995)</td>\n",
       "      <td>Comedy</td>\n",
       "    </tr>\n",
       "  </tbody>\n",
       "</table>\n",
       "</div>"
      ],
      "text/plain": [
       "  MovieID                               Title                        Genres\n",
       "0    ï»¿1                    Toy Story (1995)   Animation|Children's|Comedy\n",
       "1       2                      Jumanji (1995)  Adventure|Children's|Fantasy\n",
       "2       3             Grumpier Old Men (1995)                Comedy|Romance\n",
       "3       4            Waiting to Exhale (1995)                  Comedy|Drama\n",
       "4       5  Father of the Bride Part II (1995)                        Comedy"
      ]
     },
     "execution_count": 3,
     "metadata": {},
     "output_type": "execute_result"
    }
   ],
   "source": [
    "df =pd.read_table('F:/AI Course/CSV/Data science with Python 1/movies.txt',sep=\"::\",names= ['MovieID','Title','Genres'])\n",
    "df.head()"
   ]
  },
  {
   "cell_type": "code",
   "execution_count": 4,
   "metadata": {},
   "outputs": [],
   "source": [
    "df.at[0,'MovieID']='1'"
   ]
  },
  {
   "cell_type": "code",
   "execution_count": 5,
   "metadata": {},
   "outputs": [
    {
     "data": {
      "text/html": [
       "<div>\n",
       "<style scoped>\n",
       "    .dataframe tbody tr th:only-of-type {\n",
       "        vertical-align: middle;\n",
       "    }\n",
       "\n",
       "    .dataframe tbody tr th {\n",
       "        vertical-align: top;\n",
       "    }\n",
       "\n",
       "    .dataframe thead th {\n",
       "        text-align: right;\n",
       "    }\n",
       "</style>\n",
       "<table border=\"1\" class=\"dataframe\">\n",
       "  <thead>\n",
       "    <tr style=\"text-align: right;\">\n",
       "      <th></th>\n",
       "      <th>MovieID</th>\n",
       "      <th>Title</th>\n",
       "      <th>Genres</th>\n",
       "    </tr>\n",
       "  </thead>\n",
       "  <tbody>\n",
       "    <tr>\n",
       "      <th>0</th>\n",
       "      <td>1</td>\n",
       "      <td>Toy Story (1995)</td>\n",
       "      <td>Animation|Children's|Comedy</td>\n",
       "    </tr>\n",
       "    <tr>\n",
       "      <th>1</th>\n",
       "      <td>2</td>\n",
       "      <td>Jumanji (1995)</td>\n",
       "      <td>Adventure|Children's|Fantasy</td>\n",
       "    </tr>\n",
       "    <tr>\n",
       "      <th>2</th>\n",
       "      <td>3</td>\n",
       "      <td>Grumpier Old Men (1995)</td>\n",
       "      <td>Comedy|Romance</td>\n",
       "    </tr>\n",
       "    <tr>\n",
       "      <th>3</th>\n",
       "      <td>4</td>\n",
       "      <td>Waiting to Exhale (1995)</td>\n",
       "      <td>Comedy|Drama</td>\n",
       "    </tr>\n",
       "    <tr>\n",
       "      <th>4</th>\n",
       "      <td>5</td>\n",
       "      <td>Father of the Bride Part II (1995)</td>\n",
       "      <td>Comedy</td>\n",
       "    </tr>\n",
       "  </tbody>\n",
       "</table>\n",
       "</div>"
      ],
      "text/plain": [
       "  MovieID                               Title                        Genres\n",
       "0       1                    Toy Story (1995)   Animation|Children's|Comedy\n",
       "1       2                      Jumanji (1995)  Adventure|Children's|Fantasy\n",
       "2       3             Grumpier Old Men (1995)                Comedy|Romance\n",
       "3       4            Waiting to Exhale (1995)                  Comedy|Drama\n",
       "4       5  Father of the Bride Part II (1995)                        Comedy"
      ]
     },
     "execution_count": 5,
     "metadata": {},
     "output_type": "execute_result"
    }
   ],
   "source": [
    "df.head()"
   ]
  },
  {
   "cell_type": "code",
   "execution_count": 6,
   "metadata": {},
   "outputs": [
    {
     "data": {
      "text/html": [
       "<div>\n",
       "<style scoped>\n",
       "    .dataframe tbody tr th:only-of-type {\n",
       "        vertical-align: middle;\n",
       "    }\n",
       "\n",
       "    .dataframe tbody tr th {\n",
       "        vertical-align: top;\n",
       "    }\n",
       "\n",
       "    .dataframe thead th {\n",
       "        text-align: right;\n",
       "    }\n",
       "</style>\n",
       "<table border=\"1\" class=\"dataframe\">\n",
       "  <thead>\n",
       "    <tr style=\"text-align: right;\">\n",
       "      <th></th>\n",
       "      <th>UserID</th>\n",
       "      <th>Gender</th>\n",
       "      <th>Age</th>\n",
       "      <th>Occupation</th>\n",
       "      <th>Zip-code</th>\n",
       "    </tr>\n",
       "  </thead>\n",
       "  <tbody>\n",
       "    <tr>\n",
       "      <th>0</th>\n",
       "      <td>1</td>\n",
       "      <td>F</td>\n",
       "      <td>1</td>\n",
       "      <td>10</td>\n",
       "      <td>48067</td>\n",
       "    </tr>\n",
       "    <tr>\n",
       "      <th>1</th>\n",
       "      <td>2</td>\n",
       "      <td>M</td>\n",
       "      <td>56</td>\n",
       "      <td>16</td>\n",
       "      <td>70072</td>\n",
       "    </tr>\n",
       "    <tr>\n",
       "      <th>2</th>\n",
       "      <td>3</td>\n",
       "      <td>M</td>\n",
       "      <td>25</td>\n",
       "      <td>15</td>\n",
       "      <td>55117</td>\n",
       "    </tr>\n",
       "    <tr>\n",
       "      <th>3</th>\n",
       "      <td>4</td>\n",
       "      <td>M</td>\n",
       "      <td>45</td>\n",
       "      <td>7</td>\n",
       "      <td>02460</td>\n",
       "    </tr>\n",
       "    <tr>\n",
       "      <th>4</th>\n",
       "      <td>5</td>\n",
       "      <td>M</td>\n",
       "      <td>25</td>\n",
       "      <td>20</td>\n",
       "      <td>55455</td>\n",
       "    </tr>\n",
       "  </tbody>\n",
       "</table>\n",
       "</div>"
      ],
      "text/plain": [
       "   UserID Gender  Age  Occupation Zip-code\n",
       "0       1      F    1          10    48067\n",
       "1       2      M   56          16    70072\n",
       "2       3      M   25          15    55117\n",
       "3       4      M   45           7    02460\n",
       "4       5      M   25          20    55455"
      ]
     },
     "execution_count": 6,
     "metadata": {},
     "output_type": "execute_result"
    }
   ],
   "source": [
    "df1= pd.read_csv('F:/AI Course/CSV/Data science with Python 1/users.dat',sep=\"::\",names= ['UserID','Gender','Age','Occupation','Zip-code'])\n",
    "df1.head()"
   ]
  },
  {
   "cell_type": "code",
   "execution_count": 7,
   "metadata": {},
   "outputs": [
    {
     "data": {
      "text/html": [
       "<div>\n",
       "<style scoped>\n",
       "    .dataframe tbody tr th:only-of-type {\n",
       "        vertical-align: middle;\n",
       "    }\n",
       "\n",
       "    .dataframe tbody tr th {\n",
       "        vertical-align: top;\n",
       "    }\n",
       "\n",
       "    .dataframe thead th {\n",
       "        text-align: right;\n",
       "    }\n",
       "</style>\n",
       "<table border=\"1\" class=\"dataframe\">\n",
       "  <thead>\n",
       "    <tr style=\"text-align: right;\">\n",
       "      <th></th>\n",
       "      <th>UserID</th>\n",
       "      <th>MovieID</th>\n",
       "      <th>Rating</th>\n",
       "      <th>Timestamp</th>\n",
       "    </tr>\n",
       "  </thead>\n",
       "  <tbody>\n",
       "    <tr>\n",
       "      <th>0</th>\n",
       "      <td>1</td>\n",
       "      <td>1193</td>\n",
       "      <td>5</td>\n",
       "      <td>978300760</td>\n",
       "    </tr>\n",
       "    <tr>\n",
       "      <th>1</th>\n",
       "      <td>1</td>\n",
       "      <td>661</td>\n",
       "      <td>3</td>\n",
       "      <td>978302109</td>\n",
       "    </tr>\n",
       "    <tr>\n",
       "      <th>2</th>\n",
       "      <td>1</td>\n",
       "      <td>914</td>\n",
       "      <td>3</td>\n",
       "      <td>978301968</td>\n",
       "    </tr>\n",
       "    <tr>\n",
       "      <th>3</th>\n",
       "      <td>1</td>\n",
       "      <td>3408</td>\n",
       "      <td>4</td>\n",
       "      <td>978300275</td>\n",
       "    </tr>\n",
       "    <tr>\n",
       "      <th>4</th>\n",
       "      <td>1</td>\n",
       "      <td>2355</td>\n",
       "      <td>5</td>\n",
       "      <td>978824291</td>\n",
       "    </tr>\n",
       "  </tbody>\n",
       "</table>\n",
       "</div>"
      ],
      "text/plain": [
       "   UserID  MovieID  Rating  Timestamp\n",
       "0       1     1193       5  978300760\n",
       "1       1      661       3  978302109\n",
       "2       1      914       3  978301968\n",
       "3       1     3408       4  978300275\n",
       "4       1     2355       5  978824291"
      ]
     },
     "execution_count": 7,
     "metadata": {},
     "output_type": "execute_result"
    }
   ],
   "source": [
    "df2= pd.read_csv('F:/AI Course/CSV/Data science with Python 1/ratings.dat',sep=\"::\",names= ['UserID','MovieID','Rating','Timestamp'])\n",
    "df2.head()                 "
   ]
  },
  {
   "cell_type": "markdown",
   "metadata": {},
   "source": [
    "Create a new dataset [Master_Data] with the following columns MovieID Title UserID Age Gender Occupation Rating. (Hint: (i) Merge two tables at a time. (ii) Merge the tables using two primary keys MovieID & UserId)"
   ]
  },
  {
   "cell_type": "code",
   "execution_count": 8,
   "metadata": {},
   "outputs": [
    {
     "data": {
      "text/html": [
       "<div>\n",
       "<style scoped>\n",
       "    .dataframe tbody tr th:only-of-type {\n",
       "        vertical-align: middle;\n",
       "    }\n",
       "\n",
       "    .dataframe tbody tr th {\n",
       "        vertical-align: top;\n",
       "    }\n",
       "\n",
       "    .dataframe thead th {\n",
       "        text-align: right;\n",
       "    }\n",
       "</style>\n",
       "<table border=\"1\" class=\"dataframe\">\n",
       "  <thead>\n",
       "    <tr style=\"text-align: right;\">\n",
       "      <th></th>\n",
       "      <th>UserID</th>\n",
       "      <th>Gender</th>\n",
       "      <th>Age</th>\n",
       "      <th>Occupation</th>\n",
       "      <th>Zip-code</th>\n",
       "      <th>MovieID</th>\n",
       "      <th>Rating</th>\n",
       "      <th>Timestamp</th>\n",
       "    </tr>\n",
       "  </thead>\n",
       "  <tbody>\n",
       "    <tr>\n",
       "      <th>0</th>\n",
       "      <td>1</td>\n",
       "      <td>F</td>\n",
       "      <td>1</td>\n",
       "      <td>10</td>\n",
       "      <td>48067</td>\n",
       "      <td>1193</td>\n",
       "      <td>5</td>\n",
       "      <td>978300760</td>\n",
       "    </tr>\n",
       "    <tr>\n",
       "      <th>1</th>\n",
       "      <td>1</td>\n",
       "      <td>F</td>\n",
       "      <td>1</td>\n",
       "      <td>10</td>\n",
       "      <td>48067</td>\n",
       "      <td>661</td>\n",
       "      <td>3</td>\n",
       "      <td>978302109</td>\n",
       "    </tr>\n",
       "    <tr>\n",
       "      <th>2</th>\n",
       "      <td>1</td>\n",
       "      <td>F</td>\n",
       "      <td>1</td>\n",
       "      <td>10</td>\n",
       "      <td>48067</td>\n",
       "      <td>914</td>\n",
       "      <td>3</td>\n",
       "      <td>978301968</td>\n",
       "    </tr>\n",
       "    <tr>\n",
       "      <th>3</th>\n",
       "      <td>1</td>\n",
       "      <td>F</td>\n",
       "      <td>1</td>\n",
       "      <td>10</td>\n",
       "      <td>48067</td>\n",
       "      <td>3408</td>\n",
       "      <td>4</td>\n",
       "      <td>978300275</td>\n",
       "    </tr>\n",
       "    <tr>\n",
       "      <th>4</th>\n",
       "      <td>1</td>\n",
       "      <td>F</td>\n",
       "      <td>1</td>\n",
       "      <td>10</td>\n",
       "      <td>48067</td>\n",
       "      <td>2355</td>\n",
       "      <td>5</td>\n",
       "      <td>978824291</td>\n",
       "    </tr>\n",
       "  </tbody>\n",
       "</table>\n",
       "</div>"
      ],
      "text/plain": [
       "   UserID Gender  Age  Occupation Zip-code  MovieID  Rating  Timestamp\n",
       "0       1      F    1          10    48067     1193       5  978300760\n",
       "1       1      F    1          10    48067      661       3  978302109\n",
       "2       1      F    1          10    48067      914       3  978301968\n",
       "3       1      F    1          10    48067     3408       4  978300275\n",
       "4       1      F    1          10    48067     2355       5  978824291"
      ]
     },
     "execution_count": 8,
     "metadata": {},
     "output_type": "execute_result"
    }
   ],
   "source": [
    "a = pd.merge(df1,df2,on='UserID')\n",
    "a.head()"
   ]
  },
  {
   "cell_type": "code",
   "execution_count": 9,
   "metadata": {},
   "outputs": [
    {
     "data": {
      "text/plain": [
       "array(['1', '2', '3', ..., '3950', '3951', '3952'], dtype=object)"
      ]
     },
     "execution_count": 9,
     "metadata": {},
     "output_type": "execute_result"
    }
   ],
   "source": [
    "df['MovieID'].unique()"
   ]
  },
  {
   "cell_type": "code",
   "execution_count": 10,
   "metadata": {},
   "outputs": [],
   "source": [
    "df['MovieID'] = df['MovieID'].astype(str).astype(int)"
   ]
  },
  {
   "cell_type": "code",
   "execution_count": 11,
   "metadata": {},
   "outputs": [
    {
     "data": {
      "text/plain": [
       "dtype('int32')"
      ]
     },
     "execution_count": 11,
     "metadata": {},
     "output_type": "execute_result"
    }
   ],
   "source": [
    "df['MovieID'].dtype"
   ]
  },
  {
   "cell_type": "code",
   "execution_count": 12,
   "metadata": {},
   "outputs": [
    {
     "data": {
      "text/html": [
       "<div>\n",
       "<style scoped>\n",
       "    .dataframe tbody tr th:only-of-type {\n",
       "        vertical-align: middle;\n",
       "    }\n",
       "\n",
       "    .dataframe tbody tr th {\n",
       "        vertical-align: top;\n",
       "    }\n",
       "\n",
       "    .dataframe thead th {\n",
       "        text-align: right;\n",
       "    }\n",
       "</style>\n",
       "<table border=\"1\" class=\"dataframe\">\n",
       "  <thead>\n",
       "    <tr style=\"text-align: right;\">\n",
       "      <th></th>\n",
       "      <th>MovieID</th>\n",
       "      <th>Title</th>\n",
       "      <th>Genres</th>\n",
       "      <th>UserID</th>\n",
       "      <th>Gender</th>\n",
       "      <th>Age</th>\n",
       "      <th>Occupation</th>\n",
       "      <th>Zip-code</th>\n",
       "      <th>Rating</th>\n",
       "      <th>Timestamp</th>\n",
       "    </tr>\n",
       "  </thead>\n",
       "  <tbody>\n",
       "    <tr>\n",
       "      <th>0</th>\n",
       "      <td>1</td>\n",
       "      <td>Toy Story (1995)</td>\n",
       "      <td>Animation|Children's|Comedy</td>\n",
       "      <td>1</td>\n",
       "      <td>F</td>\n",
       "      <td>1</td>\n",
       "      <td>10</td>\n",
       "      <td>48067</td>\n",
       "      <td>5</td>\n",
       "      <td>978824268</td>\n",
       "    </tr>\n",
       "    <tr>\n",
       "      <th>1</th>\n",
       "      <td>1</td>\n",
       "      <td>Toy Story (1995)</td>\n",
       "      <td>Animation|Children's|Comedy</td>\n",
       "      <td>6</td>\n",
       "      <td>F</td>\n",
       "      <td>50</td>\n",
       "      <td>9</td>\n",
       "      <td>55117</td>\n",
       "      <td>4</td>\n",
       "      <td>978237008</td>\n",
       "    </tr>\n",
       "    <tr>\n",
       "      <th>2</th>\n",
       "      <td>1</td>\n",
       "      <td>Toy Story (1995)</td>\n",
       "      <td>Animation|Children's|Comedy</td>\n",
       "      <td>8</td>\n",
       "      <td>M</td>\n",
       "      <td>25</td>\n",
       "      <td>12</td>\n",
       "      <td>11413</td>\n",
       "      <td>4</td>\n",
       "      <td>978233496</td>\n",
       "    </tr>\n",
       "    <tr>\n",
       "      <th>3</th>\n",
       "      <td>1</td>\n",
       "      <td>Toy Story (1995)</td>\n",
       "      <td>Animation|Children's|Comedy</td>\n",
       "      <td>9</td>\n",
       "      <td>M</td>\n",
       "      <td>25</td>\n",
       "      <td>17</td>\n",
       "      <td>61614</td>\n",
       "      <td>5</td>\n",
       "      <td>978225952</td>\n",
       "    </tr>\n",
       "    <tr>\n",
       "      <th>4</th>\n",
       "      <td>1</td>\n",
       "      <td>Toy Story (1995)</td>\n",
       "      <td>Animation|Children's|Comedy</td>\n",
       "      <td>10</td>\n",
       "      <td>F</td>\n",
       "      <td>35</td>\n",
       "      <td>1</td>\n",
       "      <td>95370</td>\n",
       "      <td>5</td>\n",
       "      <td>978226474</td>\n",
       "    </tr>\n",
       "  </tbody>\n",
       "</table>\n",
       "</div>"
      ],
      "text/plain": [
       "   MovieID             Title                       Genres  UserID Gender  Age  \\\n",
       "0        1  Toy Story (1995)  Animation|Children's|Comedy       1      F    1   \n",
       "1        1  Toy Story (1995)  Animation|Children's|Comedy       6      F   50   \n",
       "2        1  Toy Story (1995)  Animation|Children's|Comedy       8      M   25   \n",
       "3        1  Toy Story (1995)  Animation|Children's|Comedy       9      M   25   \n",
       "4        1  Toy Story (1995)  Animation|Children's|Comedy      10      F   35   \n",
       "\n",
       "   Occupation Zip-code  Rating  Timestamp  \n",
       "0          10    48067       5  978824268  \n",
       "1           9    55117       4  978237008  \n",
       "2          12    11413       4  978233496  \n",
       "3          17    61614       5  978225952  \n",
       "4           1    95370       5  978226474  "
      ]
     },
     "execution_count": 12,
     "metadata": {},
     "output_type": "execute_result"
    }
   ],
   "source": [
    "Dataset = pd.merge(df,a,on='MovieID')\n",
    "Dataset.head()"
   ]
  },
  {
   "cell_type": "markdown",
   "metadata": {},
   "source": [
    "    Explore the datasets using visual representations (graphs or tables), also include your comments on the following:\n",
    "\n",
    "    User Age Distribution\n",
    "    User rating of the movie “Toy Story”\n",
    "    Top 25 movies by viewership rating\n",
    "    Find the ratings for all the movies reviewed by for a particular user of user id = 2696\n"
   ]
  },
  {
   "cell_type": "code",
   "execution_count": 13,
   "metadata": {},
   "outputs": [],
   "source": [
    "Age_Distribution = Dataset['Age'].value_counts()"
   ]
  },
  {
   "cell_type": "code",
   "execution_count": 14,
   "metadata": {
    "scrolled": true
   },
   "outputs": [
    {
     "data": {
      "text/plain": [
       "<matplotlib.axes._subplots.AxesSubplot at 0x3995274460>"
      ]
     },
     "execution_count": 14,
     "metadata": {},
     "output_type": "execute_result"
    },
    {
     "data": {
      "image/png": "[encoded data removed]",
      "text/plain": [
       "<Figure size 432x288 with 1 Axes>"
      ]
     },
     "metadata": {
      "needs_background": "light"
     },
     "output_type": "display_data"
    }
   ],
   "source": [
    "Age_Distribution.plot(kind='bar')"
   ]
  },
  {
   "cell_type": "code",
   "execution_count": 15,
   "metadata": {},
   "outputs": [],
   "source": [
    "Movie_rating = Dataset[Dataset['Title']=='Toy Story (1995)']['Rating'].value_counts()"
   ]
  },
  {
   "cell_type": "code",
   "execution_count": 16,
   "metadata": {},
   "outputs": [
    {
     "data": {
      "text/plain": [
       "<matplotlib.axes._subplots.AxesSubplot at 0x3985208130>"
      ]
     },
     "execution_count": 16,
     "metadata": {},
     "output_type": "execute_result"
    },
    {
     "data": {
      "image/png": "[encoded data removed]",
      "text/plain": [
       "<Figure size 432x288 with 1 Axes>"
      ]
     },
     "metadata": {},
     "output_type": "display_data"
    }
   ],
   "source": [
    "Movie_rating.plot(kind='pie')"
   ]
  },
  {
   "cell_type": "code",
   "execution_count": 17,
   "metadata": {},
   "outputs": [
    {
     "data": {
      "text/plain": [
       "Title\n",
       "$1,000,000 Duck (1971)                            3.027027\n",
       "'Night Mother (1986)                              3.371429\n",
       "'Til There Was You (1997)                         2.692308\n",
       "'burbs, The (1989)                                2.910891\n",
       "...And Justice for All (1979)                     3.713568\n",
       "                                                    ...   \n",
       "Zed & Two Noughts, A (1985)                       3.413793\n",
       "Zero Effect (1998)                                3.750831\n",
       "Zero Kelvin (Kjï¿½rlighetens kjï¿½tere) (1995)    3.500000\n",
       "Zeus and Roxanne (1997)                           2.521739\n",
       "eXistenZ (1999)                                   3.256098\n",
       "Name: Rating, Length: 3706, dtype: float64"
      ]
     },
     "execution_count": 17,
     "metadata": {},
     "output_type": "execute_result"
    }
   ],
   "source": [
    "Top = Dataset.groupby('Title')['Rating'].mean()\n",
    "Top"
   ]
  },
  {
   "cell_type": "code",
   "execution_count": 18,
   "metadata": {},
   "outputs": [
    {
     "data": {
      "text/plain": [
       "Title\n",
       "Gate of Heavenly Peace, The (1995)                                     5.000000\n",
       "Lured (1947)                                                           5.000000\n",
       "Ulysses (Ulisse) (1954)                                                5.000000\n",
       "Smashing Time (1967)                                                   5.000000\n",
       "Follow the Bitch (1998)                                                5.000000\n",
       "Song of Freedom (1936)                                                 5.000000\n",
       "Bittersweet Motel (2000)                                               5.000000\n",
       "Baby, The (1973)                                                       5.000000\n",
       "One Little Indian (1973)                                               5.000000\n",
       "Schlafes Bruder (Brother of Sleep) (1995)                              5.000000\n",
       "I Am Cuba (Soy Cuba/Ya Kuba) (1964)                                    4.800000\n",
       "Lamerica (1994)                                                        4.750000\n",
       "Apple, The (Sib) (1998)                                                4.666667\n",
       "Sanjuro (1962)                                                         4.608696\n",
       "Seven Samurai (The Magnificent Seven) (Shichinin no samurai) (1954)    4.560510\n",
       "Shawshank Redemption, The (1994)                                       4.554558\n",
       "Godfather, The (1972)                                                  4.524966\n",
       "Close Shave, A (1995)                                                  4.520548\n",
       "Usual Suspects, The (1995)                                             4.517106\n",
       "Schindler's List (1993)                                                4.510417\n",
       "Wrong Trousers, The (1993)                                             4.507937\n",
       "Dangerous Game (1993)                                                  4.500000\n",
       "Mamma Roma (1962)                                                      4.500000\n",
       "Inheritors, The (Die Siebtelbauern) (1998)                             4.500000\n",
       "Hour of the Pig, The (1993)                                            4.500000\n",
       "Name: Rating, dtype: float64"
      ]
     },
     "execution_count": 18,
     "metadata": {},
     "output_type": "execute_result"
    }
   ],
   "source": [
    "Top_25 = Top.sort_values(ascending=False)\n",
    "sg = Top_25.head(25)\n",
    "sg"
   ]
  },
  {
   "cell_type": "code",
   "execution_count": 19,
   "metadata": {},
   "outputs": [
    {
     "data": {
      "text/plain": [
       "<matplotlib.axes._subplots.AxesSubplot at 0x398525ca90>"
      ]
     },
     "execution_count": 19,
     "metadata": {},
     "output_type": "execute_result"
    },
    {
     "data": {
      "image/png": "[encoded data removed]",
      "text/plain": [
       "<Figure size 720x432 with 1 Axes>"
      ]
     },
     "metadata": {
      "needs_background": "light"
     },
     "output_type": "display_data"
    }
   ],
   "source": [
    "plt.figure(figsize=(10,6))\n",
    "sg.plot(kind='bar')"
   ]
  },
  {
   "cell_type": "code",
   "execution_count": 20,
   "metadata": {},
   "outputs": [],
   "source": [
    "groupedby_uid = Dataset.groupby('UserID')"
   ]
  },
  {
   "cell_type": "code",
   "execution_count": 21,
   "metadata": {},
   "outputs": [
    {
     "data": {
      "text/html": [
       "<div>\n",
       "<style scoped>\n",
       "    .dataframe tbody tr th:only-of-type {\n",
       "        vertical-align: middle;\n",
       "    }\n",
       "\n",
       "    .dataframe tbody tr th {\n",
       "        vertical-align: top;\n",
       "    }\n",
       "\n",
       "    .dataframe thead th {\n",
       "        text-align: right;\n",
       "    }\n",
       "</style>\n",
       "<table border=\"1\" class=\"dataframe\">\n",
       "  <thead>\n",
       "    <tr style=\"text-align: right;\">\n",
       "      <th></th>\n",
       "      <th>UserID</th>\n",
       "      <th>Rating</th>\n",
       "      <th>Title</th>\n",
       "    </tr>\n",
       "  </thead>\n",
       "  <tbody>\n",
       "    <tr>\n",
       "      <th>95261</th>\n",
       "      <td>2696</td>\n",
       "      <td>3</td>\n",
       "      <td>Client, The (1994)</td>\n",
       "    </tr>\n",
       "    <tr>\n",
       "      <th>200536</th>\n",
       "      <td>2696</td>\n",
       "      <td>5</td>\n",
       "      <td>Lone Star (1996)</td>\n",
       "    </tr>\n",
       "    <tr>\n",
       "      <th>270342</th>\n",
       "      <td>2696</td>\n",
       "      <td>4</td>\n",
       "      <td>Basic Instinct (1992)</td>\n",
       "    </tr>\n",
       "    <tr>\n",
       "      <th>274576</th>\n",
       "      <td>2696</td>\n",
       "      <td>3</td>\n",
       "      <td>E.T. the Extra-Terrestrial (1982)</td>\n",
       "    </tr>\n",
       "    <tr>\n",
       "      <th>349333</th>\n",
       "      <td>2696</td>\n",
       "      <td>4</td>\n",
       "      <td>Shining, The (1980)</td>\n",
       "    </tr>\n",
       "    <tr>\n",
       "      <th>360382</th>\n",
       "      <td>2696</td>\n",
       "      <td>2</td>\n",
       "      <td>Back to the Future (1985)</td>\n",
       "    </tr>\n",
       "    <tr>\n",
       "      <th>448293</th>\n",
       "      <td>2696</td>\n",
       "      <td>3</td>\n",
       "      <td>Cop Land (1997)</td>\n",
       "    </tr>\n",
       "    <tr>\n",
       "      <th>457193</th>\n",
       "      <td>2696</td>\n",
       "      <td>4</td>\n",
       "      <td>L.A. Confidential (1997)</td>\n",
       "    </tr>\n",
       "    <tr>\n",
       "      <th>459835</th>\n",
       "      <td>2696</td>\n",
       "      <td>4</td>\n",
       "      <td>Game, The (1997)</td>\n",
       "    </tr>\n",
       "    <tr>\n",
       "      <th>464473</th>\n",
       "      <td>2696</td>\n",
       "      <td>2</td>\n",
       "      <td>I Know What You Did Last Summer (1997)</td>\n",
       "    </tr>\n",
       "    <tr>\n",
       "      <th>465069</th>\n",
       "      <td>2696</td>\n",
       "      <td>4</td>\n",
       "      <td>Devil's Advocate, The (1997)</td>\n",
       "    </tr>\n",
       "    <tr>\n",
       "      <th>480658</th>\n",
       "      <td>2696</td>\n",
       "      <td>4</td>\n",
       "      <td>Midnight in the Garden of Good and Evil (1997)</td>\n",
       "    </tr>\n",
       "    <tr>\n",
       "      <th>493231</th>\n",
       "      <td>2696</td>\n",
       "      <td>4</td>\n",
       "      <td>Palmetto (1998)</td>\n",
       "    </tr>\n",
       "    <tr>\n",
       "      <th>496926</th>\n",
       "      <td>2696</td>\n",
       "      <td>4</td>\n",
       "      <td>Wild Things (1998)</td>\n",
       "    </tr>\n",
       "    <tr>\n",
       "      <th>507001</th>\n",
       "      <td>2696</td>\n",
       "      <td>4</td>\n",
       "      <td>Perfect Murder, A (1998)</td>\n",
       "    </tr>\n",
       "    <tr>\n",
       "      <th>631867</th>\n",
       "      <td>2696</td>\n",
       "      <td>2</td>\n",
       "      <td>I Still Know What You Did Last Summer (1998)</td>\n",
       "    </tr>\n",
       "    <tr>\n",
       "      <th>645948</th>\n",
       "      <td>2696</td>\n",
       "      <td>4</td>\n",
       "      <td>Psycho (1998)</td>\n",
       "    </tr>\n",
       "    <tr>\n",
       "      <th>732119</th>\n",
       "      <td>2696</td>\n",
       "      <td>1</td>\n",
       "      <td>Lake Placid (1999)</td>\n",
       "    </tr>\n",
       "    <tr>\n",
       "      <th>851313</th>\n",
       "      <td>2696</td>\n",
       "      <td>4</td>\n",
       "      <td>Talented Mr. Ripley, The (1999)</td>\n",
       "    </tr>\n",
       "    <tr>\n",
       "      <th>889623</th>\n",
       "      <td>2696</td>\n",
       "      <td>1</td>\n",
       "      <td>JFK (1991)</td>\n",
       "    </tr>\n",
       "  </tbody>\n",
       "</table>\n",
       "</div>"
      ],
      "text/plain": [
       "        UserID  Rating                                           Title\n",
       "95261     2696       3                              Client, The (1994)\n",
       "200536    2696       5                                Lone Star (1996)\n",
       "270342    2696       4                           Basic Instinct (1992)\n",
       "274576    2696       3               E.T. the Extra-Terrestrial (1982)\n",
       "349333    2696       4                             Shining, The (1980)\n",
       "360382    2696       2                       Back to the Future (1985)\n",
       "448293    2696       3                                 Cop Land (1997)\n",
       "457193    2696       4                        L.A. Confidential (1997)\n",
       "459835    2696       4                                Game, The (1997)\n",
       "464473    2696       2          I Know What You Did Last Summer (1997)\n",
       "465069    2696       4                    Devil's Advocate, The (1997)\n",
       "480658    2696       4  Midnight in the Garden of Good and Evil (1997)\n",
       "493231    2696       4                                 Palmetto (1998)\n",
       "496926    2696       4                              Wild Things (1998)\n",
       "507001    2696       4                        Perfect Murder, A (1998)\n",
       "631867    2696       2    I Still Know What You Did Last Summer (1998)\n",
       "645948    2696       4                                   Psycho (1998)\n",
       "732119    2696       1                              Lake Placid (1999)\n",
       "851313    2696       4                 Talented Mr. Ripley, The (1999)\n",
       "889623    2696       1                                      JFK (1991)"
      ]
     },
     "execution_count": 21,
     "metadata": {},
     "output_type": "execute_result"
    }
   ],
   "source": [
    "userid_2696 = groupedby_uid.get_group(2696)\n",
    "userid_2696[['UserID','Rating','Title']]"
   ]
  },
  {
   "cell_type": "markdown",
   "metadata": {},
   "source": [
    "Find out all the unique genres (Hint: split the data in column genre making a list and then process the data to find out only the unique categories of genres)"
   ]
  },
  {
   "cell_type": "code",
   "execution_count": 22,
   "metadata": {},
   "outputs": [
    {
     "data": {
      "text/plain": [
       "Drama|Romance|Western        29\n",
       "Children's|Fantasy           27\n",
       "Comedy|Film-Noir|Thriller     5\n",
       "Film-Noir|Horror              2\n",
       "Fantasy                       1\n",
       "Name: Genres, dtype: int64"
      ]
     },
     "execution_count": 22,
     "metadata": {},
     "output_type": "execute_result"
    }
   ],
   "source": [
    "Dataset['Genres'].value_counts().tail()"
   ]
  },
  {
   "cell_type": "markdown",
   "metadata": {},
   "source": [
    "Create a separate column for each genre category with a one-hot encoding ( 1 and 0) whether or not the movie belongs to that genre."
   ]
  },
  {
   "cell_type": "code",
   "execution_count": 23,
   "metadata": {},
   "outputs": [
    {
     "data": {
      "text/html": [
       "<div>\n",
       "<style scoped>\n",
       "    .dataframe tbody tr th:only-of-type {\n",
       "        vertical-align: middle;\n",
       "    }\n",
       "\n",
       "    .dataframe tbody tr th {\n",
       "        vertical-align: top;\n",
       "    }\n",
       "\n",
       "    .dataframe thead th {\n",
       "        text-align: right;\n",
       "    }\n",
       "</style>\n",
       "<table border=\"1\" class=\"dataframe\">\n",
       "  <thead>\n",
       "    <tr style=\"text-align: right;\">\n",
       "      <th>Genres</th>\n",
       "      <th>Action</th>\n",
       "      <th>Action|Adventure</th>\n",
       "      <th>Action|Adventure|Animation</th>\n",
       "      <th>Action|Adventure|Animation|Children's|Fantasy</th>\n",
       "      <th>Action|Adventure|Animation|Horror|Sci-Fi</th>\n",
       "      <th>Action|Adventure|Children's</th>\n",
       "      <th>Action|Adventure|Children's|Comedy</th>\n",
       "      <th>Action|Adventure|Children's|Fantasy</th>\n",
       "      <th>Action|Adventure|Children's|Sci-Fi</th>\n",
       "      <th>Action|Adventure|Comedy</th>\n",
       "      <th>...</th>\n",
       "      <th>Romance|Thriller</th>\n",
       "      <th>Romance|War</th>\n",
       "      <th>Romance|Western</th>\n",
       "      <th>Sci-Fi</th>\n",
       "      <th>Sci-Fi|Thriller</th>\n",
       "      <th>Sci-Fi|Thriller|War</th>\n",
       "      <th>Sci-Fi|War</th>\n",
       "      <th>Thriller</th>\n",
       "      <th>War</th>\n",
       "      <th>Western</th>\n",
       "    </tr>\n",
       "    <tr>\n",
       "      <th>Title</th>\n",
       "      <th></th>\n",
       "      <th></th>\n",
       "      <th></th>\n",
       "      <th></th>\n",
       "      <th></th>\n",
       "      <th></th>\n",
       "      <th></th>\n",
       "      <th></th>\n",
       "      <th></th>\n",
       "      <th></th>\n",
       "      <th></th>\n",
       "      <th></th>\n",
       "      <th></th>\n",
       "      <th></th>\n",
       "      <th></th>\n",
       "      <th></th>\n",
       "      <th></th>\n",
       "      <th></th>\n",
       "      <th></th>\n",
       "      <th></th>\n",
       "      <th></th>\n",
       "    </tr>\n",
       "  </thead>\n",
       "  <tbody>\n",
       "    <tr>\n",
       "      <th>$1,000,000 Duck (1971)</th>\n",
       "      <td>0</td>\n",
       "      <td>0</td>\n",
       "      <td>0</td>\n",
       "      <td>0</td>\n",
       "      <td>0</td>\n",
       "      <td>0</td>\n",
       "      <td>0</td>\n",
       "      <td>0</td>\n",
       "      <td>0</td>\n",
       "      <td>0</td>\n",
       "      <td>...</td>\n",
       "      <td>0</td>\n",
       "      <td>0</td>\n",
       "      <td>0</td>\n",
       "      <td>0</td>\n",
       "      <td>0</td>\n",
       "      <td>0</td>\n",
       "      <td>0</td>\n",
       "      <td>0</td>\n",
       "      <td>0</td>\n",
       "      <td>0</td>\n",
       "    </tr>\n",
       "    <tr>\n",
       "      <th>'Night Mother (1986)</th>\n",
       "      <td>0</td>\n",
       "      <td>0</td>\n",
       "      <td>0</td>\n",
       "      <td>0</td>\n",
       "      <td>0</td>\n",
       "      <td>0</td>\n",
       "      <td>0</td>\n",
       "      <td>0</td>\n",
       "      <td>0</td>\n",
       "      <td>0</td>\n",
       "      <td>...</td>\n",
       "      <td>0</td>\n",
       "      <td>0</td>\n",
       "      <td>0</td>\n",
       "      <td>0</td>\n",
       "      <td>0</td>\n",
       "      <td>0</td>\n",
       "      <td>0</td>\n",
       "      <td>0</td>\n",
       "      <td>0</td>\n",
       "      <td>0</td>\n",
       "    </tr>\n",
       "    <tr>\n",
       "      <th>'Til There Was You (1997)</th>\n",
       "      <td>0</td>\n",
       "      <td>0</td>\n",
       "      <td>0</td>\n",
       "      <td>0</td>\n",
       "      <td>0</td>\n",
       "      <td>0</td>\n",
       "      <td>0</td>\n",
       "      <td>0</td>\n",
       "      <td>0</td>\n",
       "      <td>0</td>\n",
       "      <td>...</td>\n",
       "      <td>0</td>\n",
       "      <td>0</td>\n",
       "      <td>0</td>\n",
       "      <td>0</td>\n",
       "      <td>0</td>\n",
       "      <td>0</td>\n",
       "      <td>0</td>\n",
       "      <td>0</td>\n",
       "      <td>0</td>\n",
       "      <td>0</td>\n",
       "    </tr>\n",
       "    <tr>\n",
       "      <th>'burbs, The (1989)</th>\n",
       "      <td>0</td>\n",
       "      <td>0</td>\n",
       "      <td>0</td>\n",
       "      <td>0</td>\n",
       "      <td>0</td>\n",
       "      <td>0</td>\n",
       "      <td>0</td>\n",
       "      <td>0</td>\n",
       "      <td>0</td>\n",
       "      <td>0</td>\n",
       "      <td>...</td>\n",
       "      <td>0</td>\n",
       "      <td>0</td>\n",
       "      <td>0</td>\n",
       "      <td>0</td>\n",
       "      <td>0</td>\n",
       "      <td>0</td>\n",
       "      <td>0</td>\n",
       "      <td>0</td>\n",
       "      <td>0</td>\n",
       "      <td>0</td>\n",
       "    </tr>\n",
       "    <tr>\n",
       "      <th>...And Justice for All (1979)</th>\n",
       "      <td>0</td>\n",
       "      <td>0</td>\n",
       "      <td>0</td>\n",
       "      <td>0</td>\n",
       "      <td>0</td>\n",
       "      <td>0</td>\n",
       "      <td>0</td>\n",
       "      <td>0</td>\n",
       "      <td>0</td>\n",
       "      <td>0</td>\n",
       "      <td>...</td>\n",
       "      <td>0</td>\n",
       "      <td>0</td>\n",
       "      <td>0</td>\n",
       "      <td>0</td>\n",
       "      <td>0</td>\n",
       "      <td>0</td>\n",
       "      <td>0</td>\n",
       "      <td>0</td>\n",
       "      <td>0</td>\n",
       "      <td>0</td>\n",
       "    </tr>\n",
       "    <tr>\n",
       "      <th>...</th>\n",
       "      <td>...</td>\n",
       "      <td>...</td>\n",
       "      <td>...</td>\n",
       "      <td>...</td>\n",
       "      <td>...</td>\n",
       "      <td>...</td>\n",
       "      <td>...</td>\n",
       "      <td>...</td>\n",
       "      <td>...</td>\n",
       "      <td>...</td>\n",
       "      <td>...</td>\n",
       "      <td>...</td>\n",
       "      <td>...</td>\n",
       "      <td>...</td>\n",
       "      <td>...</td>\n",
       "      <td>...</td>\n",
       "      <td>...</td>\n",
       "      <td>...</td>\n",
       "      <td>...</td>\n",
       "      <td>...</td>\n",
       "      <td>...</td>\n",
       "    </tr>\n",
       "    <tr>\n",
       "      <th>Zed &amp; Two Noughts, A (1985)</th>\n",
       "      <td>0</td>\n",
       "      <td>0</td>\n",
       "      <td>0</td>\n",
       "      <td>0</td>\n",
       "      <td>0</td>\n",
       "      <td>0</td>\n",
       "      <td>0</td>\n",
       "      <td>0</td>\n",
       "      <td>0</td>\n",
       "      <td>0</td>\n",
       "      <td>...</td>\n",
       "      <td>0</td>\n",
       "      <td>0</td>\n",
       "      <td>0</td>\n",
       "      <td>0</td>\n",
       "      <td>0</td>\n",
       "      <td>0</td>\n",
       "      <td>0</td>\n",
       "      <td>0</td>\n",
       "      <td>0</td>\n",
       "      <td>0</td>\n",
       "    </tr>\n",
       "    <tr>\n",
       "      <th>Zero Effect (1998)</th>\n",
       "      <td>0</td>\n",
       "      <td>0</td>\n",
       "      <td>0</td>\n",
       "      <td>0</td>\n",
       "      <td>0</td>\n",
       "      <td>0</td>\n",
       "      <td>0</td>\n",
       "      <td>0</td>\n",
       "      <td>0</td>\n",
       "      <td>0</td>\n",
       "      <td>...</td>\n",
       "      <td>0</td>\n",
       "      <td>0</td>\n",
       "      <td>0</td>\n",
       "      <td>0</td>\n",
       "      <td>0</td>\n",
       "      <td>0</td>\n",
       "      <td>0</td>\n",
       "      <td>0</td>\n",
       "      <td>0</td>\n",
       "      <td>0</td>\n",
       "    </tr>\n",
       "    <tr>\n",
       "      <th>Zero Kelvin (Kjï¿½rlighetens kjï¿½tere) (1995)</th>\n",
       "      <td>2</td>\n",
       "      <td>0</td>\n",
       "      <td>0</td>\n",
       "      <td>0</td>\n",
       "      <td>0</td>\n",
       "      <td>0</td>\n",
       "      <td>0</td>\n",
       "      <td>0</td>\n",
       "      <td>0</td>\n",
       "      <td>0</td>\n",
       "      <td>...</td>\n",
       "      <td>0</td>\n",
       "      <td>0</td>\n",
       "      <td>0</td>\n",
       "      <td>0</td>\n",
       "      <td>0</td>\n",
       "      <td>0</td>\n",
       "      <td>0</td>\n",
       "      <td>0</td>\n",
       "      <td>0</td>\n",
       "      <td>0</td>\n",
       "    </tr>\n",
       "    <tr>\n",
       "      <th>Zeus and Roxanne (1997)</th>\n",
       "      <td>0</td>\n",
       "      <td>0</td>\n",
       "      <td>0</td>\n",
       "      <td>0</td>\n",
       "      <td>0</td>\n",
       "      <td>0</td>\n",
       "      <td>0</td>\n",
       "      <td>0</td>\n",
       "      <td>0</td>\n",
       "      <td>0</td>\n",
       "      <td>...</td>\n",
       "      <td>0</td>\n",
       "      <td>0</td>\n",
       "      <td>0</td>\n",
       "      <td>0</td>\n",
       "      <td>0</td>\n",
       "      <td>0</td>\n",
       "      <td>0</td>\n",
       "      <td>0</td>\n",
       "      <td>0</td>\n",
       "      <td>0</td>\n",
       "    </tr>\n",
       "    <tr>\n",
       "      <th>eXistenZ (1999)</th>\n",
       "      <td>0</td>\n",
       "      <td>0</td>\n",
       "      <td>0</td>\n",
       "      <td>0</td>\n",
       "      <td>0</td>\n",
       "      <td>0</td>\n",
       "      <td>0</td>\n",
       "      <td>0</td>\n",
       "      <td>0</td>\n",
       "      <td>0</td>\n",
       "      <td>...</td>\n",
       "      <td>0</td>\n",
       "      <td>0</td>\n",
       "      <td>0</td>\n",
       "      <td>0</td>\n",
       "      <td>0</td>\n",
       "      <td>0</td>\n",
       "      <td>0</td>\n",
       "      <td>0</td>\n",
       "      <td>0</td>\n",
       "      <td>0</td>\n",
       "    </tr>\n",
       "  </tbody>\n",
       "</table>\n",
       "<p>3706 rows × 301 columns</p>\n",
       "</div>"
      ],
      "text/plain": [
       "Genres                                          Action  Action|Adventure  \\\n",
       "Title                                                                      \n",
       "$1,000,000 Duck (1971)                               0                 0   \n",
       "'Night Mother (1986)                                 0                 0   \n",
       "'Til There Was You (1997)                            0                 0   \n",
       "'burbs, The (1989)                                   0                 0   \n",
       "...And Justice for All (1979)                        0                 0   \n",
       "...                                                ...               ...   \n",
       "Zed & Two Noughts, A (1985)                          0                 0   \n",
       "Zero Effect (1998)                                   0                 0   \n",
       "Zero Kelvin (Kjï¿½rlighetens kjï¿½tere) (1995)       2                 0   \n",
       "Zeus and Roxanne (1997)                              0                 0   \n",
       "eXistenZ (1999)                                      0                 0   \n",
       "\n",
       "Genres                                          Action|Adventure|Animation  \\\n",
       "Title                                                                        \n",
       "$1,000,000 Duck (1971)                                                   0   \n",
       "'Night Mother (1986)                                                     0   \n",
       "'Til There Was You (1997)                                                0   \n",
       "'burbs, The (1989)                                                       0   \n",
       "...And Justice for All (1979)                                            0   \n",
       "...                                                                    ...   \n",
       "Zed & Two Noughts, A (1985)                                              0   \n",
       "Zero Effect (1998)                                                       0   \n",
       "Zero Kelvin (Kjï¿½rlighetens kjï¿½tere) (1995)                           0   \n",
       "Zeus and Roxanne (1997)                                                  0   \n",
       "eXistenZ (1999)                                                          0   \n",
       "\n",
       "Genres                                          Action|Adventure|Animation|Children's|Fantasy  \\\n",
       "Title                                                                                           \n",
       "$1,000,000 Duck (1971)                                                                      0   \n",
       "'Night Mother (1986)                                                                        0   \n",
       "'Til There Was You (1997)                                                                   0   \n",
       "'burbs, The (1989)                                                                          0   \n",
       "...And Justice for All (1979)                                                               0   \n",
       "...                                                                                       ...   \n",
       "Zed & Two Noughts, A (1985)                                                                 0   \n",
       "Zero Effect (1998)                                                                          0   \n",
       "Zero Kelvin (Kjï¿½rlighetens kjï¿½tere) (1995)                                              0   \n",
       "Zeus and Roxanne (1997)                                                                     0   \n",
       "eXistenZ (1999)                                                                             0   \n",
       "\n",
       "Genres                                          Action|Adventure|Animation|Horror|Sci-Fi  \\\n",
       "Title                                                                                      \n",
       "$1,000,000 Duck (1971)                                                                 0   \n",
       "'Night Mother (1986)                                                                   0   \n",
       "'Til There Was You (1997)                                                              0   \n",
       "'burbs, The (1989)                                                                     0   \n",
       "...And Justice for All (1979)                                                          0   \n",
       "...                                                                                  ...   \n",
       "Zed & Two Noughts, A (1985)                                                            0   \n",
       "Zero Effect (1998)                                                                     0   \n",
       "Zero Kelvin (Kjï¿½rlighetens kjï¿½tere) (1995)                                         0   \n",
       "Zeus and Roxanne (1997)                                                                0   \n",
       "eXistenZ (1999)                                                                        0   \n",
       "\n",
       "Genres                                          Action|Adventure|Children's  \\\n",
       "Title                                                                         \n",
       "$1,000,000 Duck (1971)                                                    0   \n",
       "'Night Mother (1986)                                                      0   \n",
       "'Til There Was You (1997)                                                 0   \n",
       "'burbs, The (1989)                                                        0   \n",
       "...And Justice for All (1979)                                             0   \n",
       "...                                                                     ...   \n",
       "Zed & Two Noughts, A (1985)                                               0   \n",
       "Zero Effect (1998)                                                        0   \n",
       "Zero Kelvin (Kjï¿½rlighetens kjï¿½tere) (1995)                            0   \n",
       "Zeus and Roxanne (1997)                                                   0   \n",
       "eXistenZ (1999)                                                           0   \n",
       "\n",
       "Genres                                          Action|Adventure|Children's|Comedy  \\\n",
       "Title                                                                                \n",
       "$1,000,000 Duck (1971)                                                           0   \n",
       "'Night Mother (1986)                                                             0   \n",
       "'Til There Was You (1997)                                                        0   \n",
       "'burbs, The (1989)                                                               0   \n",
       "...And Justice for All (1979)                                                    0   \n",
       "...                                                                            ...   \n",
       "Zed & Two Noughts, A (1985)                                                      0   \n",
       "Zero Effect (1998)                                                               0   \n",
       "Zero Kelvin (Kjï¿½rlighetens kjï¿½tere) (1995)                                   0   \n",
       "Zeus and Roxanne (1997)                                                          0   \n",
       "eXistenZ (1999)                                                                  0   \n",
       "\n",
       "Genres                                          Action|Adventure|Children's|Fantasy  \\\n",
       "Title                                                                                 \n",
       "$1,000,000 Duck (1971)                                                            0   \n",
       "'Night Mother (1986)                                                              0   \n",
       "'Til There Was You (1997)                                                         0   \n",
       "'burbs, The (1989)                                                                0   \n",
       "...And Justice for All (1979)                                                     0   \n",
       "...                                                                             ...   \n",
       "Zed & Two Noughts, A (1985)                                                       0   \n",
       "Zero Effect (1998)                                                                0   \n",
       "Zero Kelvin (Kjï¿½rlighetens kjï¿½tere) (1995)                                    0   \n",
       "Zeus and Roxanne (1997)                                                           0   \n",
       "eXistenZ (1999)                                                                   0   \n",
       "\n",
       "Genres                                          Action|Adventure|Children's|Sci-Fi  \\\n",
       "Title                                                                                \n",
       "$1,000,000 Duck (1971)                                                           0   \n",
       "'Night Mother (1986)                                                             0   \n",
       "'Til There Was You (1997)                                                        0   \n",
       "'burbs, The (1989)                                                               0   \n",
       "...And Justice for All (1979)                                                    0   \n",
       "...                                                                            ...   \n",
       "Zed & Two Noughts, A (1985)                                                      0   \n",
       "Zero Effect (1998)                                                               0   \n",
       "Zero Kelvin (Kjï¿½rlighetens kjï¿½tere) (1995)                                   0   \n",
       "Zeus and Roxanne (1997)                                                          0   \n",
       "eXistenZ (1999)                                                                  0   \n",
       "\n",
       "Genres                                          Action|Adventure|Comedy  ...  \\\n",
       "Title                                                                    ...   \n",
       "$1,000,000 Duck (1971)                                                0  ...   \n",
       "'Night Mother (1986)                                                  0  ...   \n",
       "'Til There Was You (1997)                                             0  ...   \n",
       "'burbs, The (1989)                                                    0  ...   \n",
       "...And Justice for All (1979)                                         0  ...   \n",
       "...                                                                 ...  ...   \n",
       "Zed & Two Noughts, A (1985)                                           0  ...   \n",
       "Zero Effect (1998)                                                    0  ...   \n",
       "Zero Kelvin (Kjï¿½rlighetens kjï¿½tere) (1995)                        0  ...   \n",
       "Zeus and Roxanne (1997)                                               0  ...   \n",
       "eXistenZ (1999)                                                       0  ...   \n",
       "\n",
       "Genres                                          Romance|Thriller  Romance|War  \\\n",
       "Title                                                                           \n",
       "$1,000,000 Duck (1971)                                         0            0   \n",
       "'Night Mother (1986)                                           0            0   \n",
       "'Til There Was You (1997)                                      0            0   \n",
       "'burbs, The (1989)                                             0            0   \n",
       "...And Justice for All (1979)                                  0            0   \n",
       "...                                                          ...          ...   \n",
       "Zed & Two Noughts, A (1985)                                    0            0   \n",
       "Zero Effect (1998)                                             0            0   \n",
       "Zero Kelvin (Kjï¿½rlighetens kjï¿½tere) (1995)                 0            0   \n",
       "Zeus and Roxanne (1997)                                        0            0   \n",
       "eXistenZ (1999)                                                0            0   \n",
       "\n",
       "Genres                                          Romance|Western  Sci-Fi  \\\n",
       "Title                                                                     \n",
       "$1,000,000 Duck (1971)                                        0       0   \n",
       "'Night Mother (1986)                                          0       0   \n",
       "'Til There Was You (1997)                                     0       0   \n",
       "'burbs, The (1989)                                            0       0   \n",
       "...And Justice for All (1979)                                 0       0   \n",
       "...                                                         ...     ...   \n",
       "Zed & Two Noughts, A (1985)                                   0       0   \n",
       "Zero Effect (1998)                                            0       0   \n",
       "Zero Kelvin (Kjï¿½rlighetens kjï¿½tere) (1995)                0       0   \n",
       "Zeus and Roxanne (1997)                                       0       0   \n",
       "eXistenZ (1999)                                               0       0   \n",
       "\n",
       "Genres                                          Sci-Fi|Thriller  \\\n",
       "Title                                                             \n",
       "$1,000,000 Duck (1971)                                        0   \n",
       "'Night Mother (1986)                                          0   \n",
       "'Til There Was You (1997)                                     0   \n",
       "'burbs, The (1989)                                            0   \n",
       "...And Justice for All (1979)                                 0   \n",
       "...                                                         ...   \n",
       "Zed & Two Noughts, A (1985)                                   0   \n",
       "Zero Effect (1998)                                            0   \n",
       "Zero Kelvin (Kjï¿½rlighetens kjï¿½tere) (1995)                0   \n",
       "Zeus and Roxanne (1997)                                       0   \n",
       "eXistenZ (1999)                                               0   \n",
       "\n",
       "Genres                                          Sci-Fi|Thriller|War  \\\n",
       "Title                                                                 \n",
       "$1,000,000 Duck (1971)                                            0   \n",
       "'Night Mother (1986)                                              0   \n",
       "'Til There Was You (1997)                                         0   \n",
       "'burbs, The (1989)                                                0   \n",
       "...And Justice for All (1979)                                     0   \n",
       "...                                                             ...   \n",
       "Zed & Two Noughts, A (1985)                                       0   \n",
       "Zero Effect (1998)                                                0   \n",
       "Zero Kelvin (Kjï¿½rlighetens kjï¿½tere) (1995)                    0   \n",
       "Zeus and Roxanne (1997)                                           0   \n",
       "eXistenZ (1999)                                                   0   \n",
       "\n",
       "Genres                                          Sci-Fi|War  Thriller  War  \\\n",
       "Title                                                                       \n",
       "$1,000,000 Duck (1971)                                   0         0    0   \n",
       "'Night Mother (1986)                                     0         0    0   \n",
       "'Til There Was You (1997)                                0         0    0   \n",
       "'burbs, The (1989)                                       0         0    0   \n",
       "...And Justice for All (1979)                            0         0    0   \n",
       "...                                                    ...       ...  ...   \n",
       "Zed & Two Noughts, A (1985)                              0         0    0   \n",
       "Zero Effect (1998)                                       0         0    0   \n",
       "Zero Kelvin (Kjï¿½rlighetens kjï¿½tere) (1995)           0         0    0   \n",
       "Zeus and Roxanne (1997)                                  0         0    0   \n",
       "eXistenZ (1999)                                          0         0    0   \n",
       "\n",
       "Genres                                          Western  \n",
       "Title                                                    \n",
       "$1,000,000 Duck (1971)                                0  \n",
       "'Night Mother (1986)                                  0  \n",
       "'Til There Was You (1997)                             0  \n",
       "'burbs, The (1989)                                    0  \n",
       "...And Justice for All (1979)                         0  \n",
       "...                                                 ...  \n",
       "Zed & Two Noughts, A (1985)                           0  \n",
       "Zero Effect (1998)                                    0  \n",
       "Zero Kelvin (Kjï¿½rlighetens kjï¿½tere) (1995)        0  \n",
       "Zeus and Roxanne (1997)                               0  \n",
       "eXistenZ (1999)                                       0  \n",
       "\n",
       "[3706 rows x 301 columns]"
      ]
     },
     "execution_count": 23,
     "metadata": {},
     "output_type": "execute_result"
    }
   ],
   "source": [
    "cross = pd.crosstab(Dataset['Title'],Dataset['Genres'])\n",
    "cross"
   ]
  },
  {
   "cell_type": "code",
   "execution_count": 24,
   "metadata": {},
   "outputs": [
    {
     "data": {
      "text/html": [
       "<div>\n",
       "<style scoped>\n",
       "    .dataframe tbody tr th:only-of-type {\n",
       "        vertical-align: middle;\n",
       "    }\n",
       "\n",
       "    .dataframe tbody tr th {\n",
       "        vertical-align: top;\n",
       "    }\n",
       "\n",
       "    .dataframe thead th {\n",
       "        text-align: right;\n",
       "    }\n",
       "</style>\n",
       "<table border=\"1\" class=\"dataframe\">\n",
       "  <thead>\n",
       "    <tr style=\"text-align: right;\">\n",
       "      <th></th>\n",
       "      <th>MovieID</th>\n",
       "      <th>Title</th>\n",
       "      <th>Genres</th>\n",
       "      <th>UserID</th>\n",
       "      <th>Gender</th>\n",
       "      <th>Age</th>\n",
       "      <th>Occupation</th>\n",
       "      <th>Zip-code</th>\n",
       "      <th>Rating</th>\n",
       "      <th>Timestamp</th>\n",
       "    </tr>\n",
       "  </thead>\n",
       "  <tbody>\n",
       "    <tr>\n",
       "      <th>0</th>\n",
       "      <td>1</td>\n",
       "      <td>Toy Story (1995)</td>\n",
       "      <td>Animation|Children's|Comedy</td>\n",
       "      <td>1</td>\n",
       "      <td>F</td>\n",
       "      <td>1</td>\n",
       "      <td>10</td>\n",
       "      <td>48067</td>\n",
       "      <td>5</td>\n",
       "      <td>978824268</td>\n",
       "    </tr>\n",
       "    <tr>\n",
       "      <th>1</th>\n",
       "      <td>1</td>\n",
       "      <td>Toy Story (1995)</td>\n",
       "      <td>Animation|Children's|Comedy</td>\n",
       "      <td>6</td>\n",
       "      <td>F</td>\n",
       "      <td>50</td>\n",
       "      <td>9</td>\n",
       "      <td>55117</td>\n",
       "      <td>4</td>\n",
       "      <td>978237008</td>\n",
       "    </tr>\n",
       "    <tr>\n",
       "      <th>2</th>\n",
       "      <td>1</td>\n",
       "      <td>Toy Story (1995)</td>\n",
       "      <td>Animation|Children's|Comedy</td>\n",
       "      <td>8</td>\n",
       "      <td>M</td>\n",
       "      <td>25</td>\n",
       "      <td>12</td>\n",
       "      <td>11413</td>\n",
       "      <td>4</td>\n",
       "      <td>978233496</td>\n",
       "    </tr>\n",
       "    <tr>\n",
       "      <th>3</th>\n",
       "      <td>1</td>\n",
       "      <td>Toy Story (1995)</td>\n",
       "      <td>Animation|Children's|Comedy</td>\n",
       "      <td>9</td>\n",
       "      <td>M</td>\n",
       "      <td>25</td>\n",
       "      <td>17</td>\n",
       "      <td>61614</td>\n",
       "      <td>5</td>\n",
       "      <td>978225952</td>\n",
       "    </tr>\n",
       "  </tbody>\n",
       "</table>\n",
       "</div>"
      ],
      "text/plain": [
       "   MovieID             Title                       Genres  UserID Gender  Age  \\\n",
       "0        1  Toy Story (1995)  Animation|Children's|Comedy       1      F    1   \n",
       "1        1  Toy Story (1995)  Animation|Children's|Comedy       6      F   50   \n",
       "2        1  Toy Story (1995)  Animation|Children's|Comedy       8      M   25   \n",
       "3        1  Toy Story (1995)  Animation|Children's|Comedy       9      M   25   \n",
       "\n",
       "   Occupation Zip-code  Rating  Timestamp  \n",
       "0          10    48067       5  978824268  \n",
       "1           9    55117       4  978237008  \n",
       "2          12    11413       4  978233496  \n",
       "3          17    61614       5  978225952  "
      ]
     },
     "execution_count": 24,
     "metadata": {},
     "output_type": "execute_result"
    }
   ],
   "source": [
    "Dataset.head(4)"
   ]
  },
  {
   "cell_type": "markdown",
   "metadata": {},
   "source": [
    "Features affecting Rating of a Movies can be :- Gender,Age & Occupation"
   ]
  },
  {
   "cell_type": "code",
   "execution_count": 25,
   "metadata": {},
   "outputs": [
    {
     "data": {
      "text/html": [
       "<div>\n",
       "<style scoped>\n",
       "    .dataframe tbody tr th:only-of-type {\n",
       "        vertical-align: middle;\n",
       "    }\n",
       "\n",
       "    .dataframe tbody tr th {\n",
       "        vertical-align: top;\n",
       "    }\n",
       "\n",
       "    .dataframe thead th {\n",
       "        text-align: right;\n",
       "    }\n",
       "</style>\n",
       "<table border=\"1\" class=\"dataframe\">\n",
       "  <thead>\n",
       "    <tr style=\"text-align: right;\">\n",
       "      <th></th>\n",
       "      <th>MovieID</th>\n",
       "      <th>Age</th>\n",
       "      <th>Occupation</th>\n",
       "      <th>Rating</th>\n",
       "    </tr>\n",
       "  </thead>\n",
       "  <tbody>\n",
       "    <tr>\n",
       "      <th>0</th>\n",
       "      <td>1</td>\n",
       "      <td>1</td>\n",
       "      <td>10</td>\n",
       "      <td>5</td>\n",
       "    </tr>\n",
       "    <tr>\n",
       "      <th>1</th>\n",
       "      <td>1</td>\n",
       "      <td>50</td>\n",
       "      <td>9</td>\n",
       "      <td>4</td>\n",
       "    </tr>\n",
       "    <tr>\n",
       "      <th>2</th>\n",
       "      <td>1</td>\n",
       "      <td>25</td>\n",
       "      <td>12</td>\n",
       "      <td>4</td>\n",
       "    </tr>\n",
       "    <tr>\n",
       "      <th>3</th>\n",
       "      <td>1</td>\n",
       "      <td>25</td>\n",
       "      <td>17</td>\n",
       "      <td>5</td>\n",
       "    </tr>\n",
       "    <tr>\n",
       "      <th>4</th>\n",
       "      <td>1</td>\n",
       "      <td>35</td>\n",
       "      <td>1</td>\n",
       "      <td>5</td>\n",
       "    </tr>\n",
       "    <tr>\n",
       "      <th>...</th>\n",
       "      <td>...</td>\n",
       "      <td>...</td>\n",
       "      <td>...</td>\n",
       "      <td>...</td>\n",
       "    </tr>\n",
       "    <tr>\n",
       "      <th>1000204</th>\n",
       "      <td>3952</td>\n",
       "      <td>25</td>\n",
       "      <td>7</td>\n",
       "      <td>4</td>\n",
       "    </tr>\n",
       "    <tr>\n",
       "      <th>1000205</th>\n",
       "      <td>3952</td>\n",
       "      <td>25</td>\n",
       "      <td>1</td>\n",
       "      <td>3</td>\n",
       "    </tr>\n",
       "    <tr>\n",
       "      <th>1000206</th>\n",
       "      <td>3952</td>\n",
       "      <td>25</td>\n",
       "      <td>7</td>\n",
       "      <td>4</td>\n",
       "    </tr>\n",
       "    <tr>\n",
       "      <th>1000207</th>\n",
       "      <td>3952</td>\n",
       "      <td>35</td>\n",
       "      <td>14</td>\n",
       "      <td>1</td>\n",
       "    </tr>\n",
       "    <tr>\n",
       "      <th>1000208</th>\n",
       "      <td>3952</td>\n",
       "      <td>18</td>\n",
       "      <td>4</td>\n",
       "      <td>4</td>\n",
       "    </tr>\n",
       "  </tbody>\n",
       "</table>\n",
       "<p>1000209 rows × 4 columns</p>\n",
       "</div>"
      ],
      "text/plain": [
       "         MovieID  Age  Occupation  Rating\n",
       "0              1    1          10       5\n",
       "1              1   50           9       4\n",
       "2              1   25          12       4\n",
       "3              1   25          17       5\n",
       "4              1   35           1       5\n",
       "...          ...  ...         ...     ...\n",
       "1000204     3952   25           7       4\n",
       "1000205     3952   25           1       3\n",
       "1000206     3952   25           7       4\n",
       "1000207     3952   35          14       1\n",
       "1000208     3952   18           4       4\n",
       "\n",
       "[1000209 rows x 4 columns]"
      ]
     },
     "execution_count": 25,
     "metadata": {},
     "output_type": "execute_result"
    }
   ],
   "source": [
    "First = Dataset[['MovieID','Age','Occupation','Rating']]\n",
    "First"
   ]
  },
  {
   "cell_type": "markdown",
   "metadata": {},
   "source": [
    "Develop an appropriate model to predict the movie ratings"
   ]
  },
  {
   "cell_type": "code",
   "execution_count": 26,
   "metadata": {},
   "outputs": [],
   "source": [
    "first1000 = First[1000:]"
   ]
  },
  {
   "cell_type": "code",
   "execution_count": 27,
   "metadata": {},
   "outputs": [],
   "source": [
    "x= first1000.iloc[:,0:3]\n",
    "y= first1000.iloc[:,-1]"
   ]
  },
  {
   "cell_type": "code",
   "execution_count": 28,
   "metadata": {},
   "outputs": [
    {
     "data": {
      "text/plain": [
       "4    348573\n",
       "3    261024\n",
       "5    225916\n",
       "2    107527\n",
       "1     56169\n",
       "Name: Rating, dtype: int64"
      ]
     },
     "execution_count": 28,
     "metadata": {},
     "output_type": "execute_result"
    }
   ],
   "source": [
    "y.value_counts()"
   ]
  },
  {
   "cell_type": "code",
   "execution_count": 29,
   "metadata": {},
   "outputs": [],
   "source": [
    "from sklearn.model_selection import train_test_split\n",
    "\n",
    "X_train, X_test, y_train, y_test = train_test_split(x,y,test_size=0.2,random_state=42)"
   ]
  },
  {
   "cell_type": "markdown",
   "metadata": {},
   "source": [
    "# Prediction through Logistic Regression\n"
   ]
  },
  {
   "cell_type": "code",
   "execution_count": 30,
   "metadata": {},
   "outputs": [],
   "source": [
    "from sklearn.linear_model import LogisticRegression"
   ]
  },
  {
   "cell_type": "code",
   "execution_count": 31,
   "metadata": {},
   "outputs": [],
   "source": [
    "model = LogisticRegression()"
   ]
  },
  {
   "cell_type": "code",
   "execution_count": 32,
   "metadata": {},
   "outputs": [
    {
     "data": {
      "text/plain": [
       "LogisticRegression()"
      ]
     },
     "execution_count": 32,
     "metadata": {},
     "output_type": "execute_result"
    }
   ],
   "source": [
    "model.fit(X_train,y_train)"
   ]
  },
  {
   "cell_type": "code",
   "execution_count": 33,
   "metadata": {},
   "outputs": [],
   "source": [
    "pred = model.predict(X_test)"
   ]
  },
  {
   "cell_type": "code",
   "execution_count": 34,
   "metadata": {},
   "outputs": [
    {
     "data": {
      "text/plain": [
       "0.3482000780616687"
      ]
     },
     "execution_count": 34,
     "metadata": {},
     "output_type": "execute_result"
    }
   ],
   "source": [
    "model.score(X_test,y_test)"
   ]
  },
  {
   "cell_type": "code",
   "execution_count": 35,
   "metadata": {},
   "outputs": [],
   "source": [
    "from sklearn import metrics\n",
    "from sklearn.metrics import accuracy_score\n",
    "from sklearn.metrics import classification_report\n",
    "from sklearn.metrics import confusion_matrix"
   ]
  },
  {
   "cell_type": "code",
   "execution_count": 36,
   "metadata": {},
   "outputs": [
    {
     "name": "stdout",
     "output_type": "stream",
     "text": [
      "[[    0     0    11 11216     0]\n",
      " [    0     0    34 21499     0]\n",
      " [    0     0    58 52102     0]\n",
      " [    0     0    74 69527     0]\n",
      " [    0     0    63 45258     0]]\n"
     ]
    }
   ],
   "source": [
    "print(confusion_matrix(y_test,pred))"
   ]
  },
  {
   "cell_type": "code",
   "execution_count": 37,
   "metadata": {},
   "outputs": [
    {
     "name": "stdout",
     "output_type": "stream",
     "text": [
      "              precision    recall  f1-score   support\n",
      "\n",
      "           1       0.00      0.00      0.00     11227\n",
      "           2       0.00      0.00      0.00     21533\n",
      "           3       0.24      0.00      0.00     52160\n",
      "           4       0.35      1.00      0.52     69601\n",
      "           5       0.00      0.00      0.00     45321\n",
      "\n",
      "    accuracy                           0.35    199842\n",
      "   macro avg       0.12      0.20      0.10    199842\n",
      "weighted avg       0.18      0.35      0.18    199842\n",
      "\n"
     ]
    }
   ],
   "source": [
    "print(classification_report(y_test,pred))"
   ]
  },
  {
   "cell_type": "code",
   "execution_count": 38,
   "metadata": {},
   "outputs": [
    {
     "name": "stdout",
     "output_type": "stream",
     "text": [
      "0.3482000780616687\n"
     ]
    }
   ],
   "source": [
    "print(accuracy_score(y_test,pred))"
   ]
  },
  {
   "cell_type": "markdown",
   "metadata": {},
   "source": [
    "# Prediction through KNeighbors\n"
   ]
  },
  {
   "cell_type": "code",
   "execution_count": 39,
   "metadata": {},
   "outputs": [],
   "source": [
    "from sklearn.neighbors import KNeighborsClassifier"
   ]
  },
  {
   "cell_type": "code",
   "execution_count": 40,
   "metadata": {},
   "outputs": [],
   "source": [
    "knn = KNeighborsClassifier(n_jobs=-1)"
   ]
  },
  {
   "cell_type": "code",
   "execution_count": 41,
   "metadata": {},
   "outputs": [
    {
     "data": {
      "text/plain": [
       "KNeighborsClassifier(n_jobs=-1)"
      ]
     },
     "execution_count": 41,
     "metadata": {},
     "output_type": "execute_result"
    }
   ],
   "source": [
    "knn.fit(X_train,y_train)"
   ]
  },
  {
   "cell_type": "code",
   "execution_count": 42,
   "metadata": {},
   "outputs": [
    {
     "data": {
      "text/plain": [
       "0.3341089460673932"
      ]
     },
     "execution_count": 42,
     "metadata": {},
     "output_type": "execute_result"
    }
   ],
   "source": [
    "pred1 = knn.predict(X_test)\n",
    "knn.score(X_test,y_test)"
   ]
  },
  {
   "cell_type": "code",
   "execution_count": 43,
   "metadata": {},
   "outputs": [
    {
     "data": {
      "text/plain": [
       "array([[ 2118,  2039,  3738,  2640,   692],\n",
       "       [ 2162,  3625,  7807,  6241,  1698],\n",
       "       [ 2872,  5925, 18641, 18949,  5773],\n",
       "       [ 2019,  5142, 21348, 29209, 11883],\n",
       "       [  775,  1885, 10355, 19130, 13176]], dtype=int64)"
      ]
     },
     "execution_count": 43,
     "metadata": {},
     "output_type": "execute_result"
    }
   ],
   "source": [
    "metrics.confusion_matrix(y_test,pred1)"
   ]
  },
  {
   "cell_type": "code",
   "execution_count": 44,
   "metadata": {},
   "outputs": [
    {
     "name": "stdout",
     "output_type": "stream",
     "text": [
      "              precision    recall  f1-score   support\n",
      "\n",
      "           1       0.21      0.19      0.20     11227\n",
      "           2       0.19      0.17      0.18     21533\n",
      "           3       0.30      0.36      0.33     52160\n",
      "           4       0.38      0.42      0.40     69601\n",
      "           5       0.40      0.29      0.34     45321\n",
      "\n",
      "    accuracy                           0.33    199842\n",
      "   macro avg       0.30      0.28      0.29    199842\n",
      "weighted avg       0.34      0.33      0.33    199842\n",
      "\n"
     ]
    }
   ],
   "source": [
    "print(classification_report(y_test,pred1))"
   ]
  },
  {
   "cell_type": "code",
   "execution_count": 45,
   "metadata": {},
   "outputs": [
    {
     "name": "stdout",
     "output_type": "stream",
     "text": [
      "0.3341089460673932\n"
     ]
    }
   ],
   "source": [
    "print(accuracy_score(y_test,pred1))"
   ]
  },
  {
   "cell_type": "code",
   "execution_count": null,
   "metadata": {},
   "outputs": [],
   "source": []
  },
  {
   "cell_type": "code",
   "execution_count": null,
   "metadata": {},
   "outputs": [],
   "source": []
  }
 ],
 "metadata": {
  "kernelspec": {
   "display_name": "Python 3",
   "language": "python",
   "name": "python3"
  },
  "language_info": {
   "codemirror_mode": {
    "name": "ipython",
    "version": 3
   },
   "file_extension": ".py",
   "mimetype": "text/x-python",
   "name": "python",
   "nbconvert_exporter": "python",
   "pygments_lexer": "ipython3",
   "version": "3.8.3"
  }
 },
 "nbformat": 4,
 "nbformat_minor": 4
}
