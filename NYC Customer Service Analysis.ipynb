{
 "cells": [
  {
   "cell_type": "code",
   "execution_count": 1,
   "metadata": {},
   "outputs": [],
   "source": [
    "import numpy as np\n",
    "import pandas as pd\n",
    "import matplotlib.pyplot as plt\n",
    "import seaborn as sns\n",
    "%matplotlib inline"
   ]
  },
  {
   "cell_type": "code",
   "execution_count": 2,
   "metadata": {},
   "outputs": [],
   "source": [
    "import warnings\n",
    "warnings.filterwarnings('ignore')"
   ]
  },
  {
   "cell_type": "markdown",
   "metadata": {},
   "source": [
    "# Q1) Import a 311 NYC service request"
   ]
  },
  {
   "cell_type": "code",
   "execution_count": 3,
   "metadata": {},
   "outputs": [
    {
     "data": {
      "text/html": [
       "<div>\n",
       "<style scoped>\n",
       "    .dataframe tbody tr th:only-of-type {\n",
       "        vertical-align: middle;\n",
       "    }\n",
       "\n",
       "    .dataframe tbody tr th {\n",
       "        vertical-align: top;\n",
       "    }\n",
       "\n",
       "    .dataframe thead th {\n",
       "        text-align: right;\n",
       "    }\n",
       "</style>\n",
       "<table border=\"1\" class=\"dataframe\">\n",
       "  <thead>\n",
       "    <tr style=\"text-align: right;\">\n",
       "      <th></th>\n",
       "      <th>Unique Key</th>\n",
       "      <th>Created Date</th>\n",
       "      <th>Closed Date</th>\n",
       "      <th>Agency</th>\n",
       "      <th>Agency Name</th>\n",
       "      <th>Complaint Type</th>\n",
       "      <th>Descriptor</th>\n",
       "      <th>Location Type</th>\n",
       "      <th>Incident Zip</th>\n",
       "      <th>Incident Address</th>\n",
       "      <th>...</th>\n",
       "      <th>Bridge Highway Name</th>\n",
       "      <th>Bridge Highway Direction</th>\n",
       "      <th>Road Ramp</th>\n",
       "      <th>Bridge Highway Segment</th>\n",
       "      <th>Garage Lot Name</th>\n",
       "      <th>Ferry Direction</th>\n",
       "      <th>Ferry Terminal Name</th>\n",
       "      <th>Latitude</th>\n",
       "      <th>Longitude</th>\n",
       "      <th>Location</th>\n",
       "    </tr>\n",
       "  </thead>\n",
       "  <tbody>\n",
       "    <tr>\n",
       "      <th>0</th>\n",
       "      <td>32310363</td>\n",
       "      <td>12/31/2015 11:59:45 PM</td>\n",
       "      <td>01-01-16 0:55</td>\n",
       "      <td>NYPD</td>\n",
       "      <td>New York City Police Department</td>\n",
       "      <td>Noise - Street/Sidewalk</td>\n",
       "      <td>Loud Music/Party</td>\n",
       "      <td>Street/Sidewalk</td>\n",
       "      <td>10034.0</td>\n",
       "      <td>71 VERMILYEA AVENUE</td>\n",
       "      <td>...</td>\n",
       "      <td>NaN</td>\n",
       "      <td>NaN</td>\n",
       "      <td>NaN</td>\n",
       "      <td>NaN</td>\n",
       "      <td>NaN</td>\n",
       "      <td>NaN</td>\n",
       "      <td>NaN</td>\n",
       "      <td>40.865682</td>\n",
       "      <td>-73.923501</td>\n",
       "      <td>(40.86568153633767, -73.92350095571744)</td>\n",
       "    </tr>\n",
       "    <tr>\n",
       "      <th>1</th>\n",
       "      <td>32309934</td>\n",
       "      <td>12/31/2015 11:59:44 PM</td>\n",
       "      <td>01-01-16 1:26</td>\n",
       "      <td>NYPD</td>\n",
       "      <td>New York City Police Department</td>\n",
       "      <td>Blocked Driveway</td>\n",
       "      <td>No Access</td>\n",
       "      <td>Street/Sidewalk</td>\n",
       "      <td>11105.0</td>\n",
       "      <td>27-07 23 AVENUE</td>\n",
       "      <td>...</td>\n",
       "      <td>NaN</td>\n",
       "      <td>NaN</td>\n",
       "      <td>NaN</td>\n",
       "      <td>NaN</td>\n",
       "      <td>NaN</td>\n",
       "      <td>NaN</td>\n",
       "      <td>NaN</td>\n",
       "      <td>40.775945</td>\n",
       "      <td>-73.915094</td>\n",
       "      <td>(40.775945312321085, -73.91509393898605)</td>\n",
       "    </tr>\n",
       "    <tr>\n",
       "      <th>2</th>\n",
       "      <td>32309159</td>\n",
       "      <td>12/31/2015 11:59:29 PM</td>\n",
       "      <td>01-01-16 4:51</td>\n",
       "      <td>NYPD</td>\n",
       "      <td>New York City Police Department</td>\n",
       "      <td>Blocked Driveway</td>\n",
       "      <td>No Access</td>\n",
       "      <td>Street/Sidewalk</td>\n",
       "      <td>10458.0</td>\n",
       "      <td>2897 VALENTINE AVENUE</td>\n",
       "      <td>...</td>\n",
       "      <td>NaN</td>\n",
       "      <td>NaN</td>\n",
       "      <td>NaN</td>\n",
       "      <td>NaN</td>\n",
       "      <td>NaN</td>\n",
       "      <td>NaN</td>\n",
       "      <td>NaN</td>\n",
       "      <td>40.870325</td>\n",
       "      <td>-73.888525</td>\n",
       "      <td>(40.870324522111424, -73.88852464418646)</td>\n",
       "    </tr>\n",
       "    <tr>\n",
       "      <th>3</th>\n",
       "      <td>32305098</td>\n",
       "      <td>12/31/2015 11:57:46 PM</td>\n",
       "      <td>01-01-16 7:43</td>\n",
       "      <td>NYPD</td>\n",
       "      <td>New York City Police Department</td>\n",
       "      <td>Illegal Parking</td>\n",
       "      <td>Commercial Overnight Parking</td>\n",
       "      <td>Street/Sidewalk</td>\n",
       "      <td>10461.0</td>\n",
       "      <td>2940 BAISLEY AVENUE</td>\n",
       "      <td>...</td>\n",
       "      <td>NaN</td>\n",
       "      <td>NaN</td>\n",
       "      <td>NaN</td>\n",
       "      <td>NaN</td>\n",
       "      <td>NaN</td>\n",
       "      <td>NaN</td>\n",
       "      <td>NaN</td>\n",
       "      <td>40.835994</td>\n",
       "      <td>-73.828379</td>\n",
       "      <td>(40.83599404683083, -73.82837939584206)</td>\n",
       "    </tr>\n",
       "    <tr>\n",
       "      <th>4</th>\n",
       "      <td>32306529</td>\n",
       "      <td>12/31/2015 11:56:58 PM</td>\n",
       "      <td>01-01-16 3:24</td>\n",
       "      <td>NYPD</td>\n",
       "      <td>New York City Police Department</td>\n",
       "      <td>Illegal Parking</td>\n",
       "      <td>Blocked Sidewalk</td>\n",
       "      <td>Street/Sidewalk</td>\n",
       "      <td>11373.0</td>\n",
       "      <td>87-14 57 ROAD</td>\n",
       "      <td>...</td>\n",
       "      <td>NaN</td>\n",
       "      <td>NaN</td>\n",
       "      <td>NaN</td>\n",
       "      <td>NaN</td>\n",
       "      <td>NaN</td>\n",
       "      <td>NaN</td>\n",
       "      <td>NaN</td>\n",
       "      <td>40.733060</td>\n",
       "      <td>-73.874170</td>\n",
       "      <td>(40.733059618956815, -73.87416975810375)</td>\n",
       "    </tr>\n",
       "  </tbody>\n",
       "</table>\n",
       "<p>5 rows × 53 columns</p>\n",
       "</div>"
      ],
      "text/plain": [
       "   Unique Key            Created Date    Closed Date Agency  \\\n",
       "0    32310363  12/31/2015 11:59:45 PM  01-01-16 0:55   NYPD   \n",
       "1    32309934  12/31/2015 11:59:44 PM  01-01-16 1:26   NYPD   \n",
       "2    32309159  12/31/2015 11:59:29 PM  01-01-16 4:51   NYPD   \n",
       "3    32305098  12/31/2015 11:57:46 PM  01-01-16 7:43   NYPD   \n",
       "4    32306529  12/31/2015 11:56:58 PM  01-01-16 3:24   NYPD   \n",
       "\n",
       "                       Agency Name           Complaint Type  \\\n",
       "0  New York City Police Department  Noise - Street/Sidewalk   \n",
       "1  New York City Police Department         Blocked Driveway   \n",
       "2  New York City Police Department         Blocked Driveway   \n",
       "3  New York City Police Department          Illegal Parking   \n",
       "4  New York City Police Department          Illegal Parking   \n",
       "\n",
       "                     Descriptor    Location Type  Incident Zip  \\\n",
       "0              Loud Music/Party  Street/Sidewalk       10034.0   \n",
       "1                     No Access  Street/Sidewalk       11105.0   \n",
       "2                     No Access  Street/Sidewalk       10458.0   \n",
       "3  Commercial Overnight Parking  Street/Sidewalk       10461.0   \n",
       "4              Blocked Sidewalk  Street/Sidewalk       11373.0   \n",
       "\n",
       "        Incident Address  ... Bridge Highway Name Bridge Highway Direction  \\\n",
       "0    71 VERMILYEA AVENUE  ...                 NaN                      NaN   \n",
       "1        27-07 23 AVENUE  ...                 NaN                      NaN   \n",
       "2  2897 VALENTINE AVENUE  ...                 NaN                      NaN   \n",
       "3    2940 BAISLEY AVENUE  ...                 NaN                      NaN   \n",
       "4          87-14 57 ROAD  ...                 NaN                      NaN   \n",
       "\n",
       "  Road Ramp Bridge Highway Segment Garage Lot Name Ferry Direction  \\\n",
       "0       NaN                    NaN             NaN             NaN   \n",
       "1       NaN                    NaN             NaN             NaN   \n",
       "2       NaN                    NaN             NaN             NaN   \n",
       "3       NaN                    NaN             NaN             NaN   \n",
       "4       NaN                    NaN             NaN             NaN   \n",
       "\n",
       "  Ferry Terminal Name   Latitude  Longitude  \\\n",
       "0                 NaN  40.865682 -73.923501   \n",
       "1                 NaN  40.775945 -73.915094   \n",
       "2                 NaN  40.870325 -73.888525   \n",
       "3                 NaN  40.835994 -73.828379   \n",
       "4                 NaN  40.733060 -73.874170   \n",
       "\n",
       "                                   Location  \n",
       "0   (40.86568153633767, -73.92350095571744)  \n",
       "1  (40.775945312321085, -73.91509393898605)  \n",
       "2  (40.870324522111424, -73.88852464418646)  \n",
       "3   (40.83599404683083, -73.82837939584206)  \n",
       "4  (40.733059618956815, -73.87416975810375)  \n",
       "\n",
       "[5 rows x 53 columns]"
      ]
     },
     "execution_count": 3,
     "metadata": {},
     "output_type": "execute_result"
    }
   ],
   "source": [
    "df = pd.read_csv('H:/AI Course/CSV/Project1.csv')\n",
    "df.head()"
   ]
  },
  {
   "cell_type": "markdown",
   "metadata": {},
   "source": [
    "# Clearing all the null values\n"
   ]
  },
  {
   "cell_type": "code",
   "execution_count": 4,
   "metadata": {},
   "outputs": [
    {
     "data": {
      "text/plain": [
       "Unique Key                          0.000000\n",
       "Created Date                        0.000000\n",
       "Closed Date                         0.719659\n",
       "Agency                              0.000000\n",
       "Agency Name                         0.000000\n",
       "Complaint Type                      0.000000\n",
       "Descriptor                          1.966757\n",
       "Location Type                       0.043565\n",
       "Incident Zip                        0.869643\n",
       "Incident Address                   14.768971\n",
       "Street Name                        14.768971\n",
       "Cross Street 1                     16.388203\n",
       "Cross Street 2                     16.554483\n",
       "Intersection Street 1              85.414602\n",
       "Intersection Street 2              85.579552\n",
       "Address Type                        0.936155\n",
       "City                                0.869311\n",
       "Landmark                           99.883937\n",
       "Facility Type                       0.721987\n",
       "Status                              0.000000\n",
       "Due Date                            0.000998\n",
       "Resolution Description              0.000000\n",
       "Resolution Action Updated Date      0.727308\n",
       "Community Board                     0.000000\n",
       "Borough                             0.000000\n",
       "X Coordinate (State Plane)          1.177261\n",
       "Y Coordinate (State Plane)          1.177261\n",
       "Park Facility Name                  0.000000\n",
       "Park Borough                        0.000000\n",
       "School Name                         0.000000\n",
       "School Number                       0.000000\n",
       "School Region                       0.000333\n",
       "School Code                         0.000333\n",
       "School Phone Number                 0.000000\n",
       "School Address                      0.000000\n",
       "School City                         0.000000\n",
       "School State                        0.000000\n",
       "School Zip                          0.000333\n",
       "School Not Found                    0.000000\n",
       "School or Citywide Complaint      100.000000\n",
       "Vehicle Type                      100.000000\n",
       "Taxi Company Borough              100.000000\n",
       "Taxi Pick Up Location             100.000000\n",
       "Bridge Highway Name                99.919188\n",
       "Bridge Highway Direction           99.919188\n",
       "Road Ramp                          99.929165\n",
       "Bridge Highway Segment             99.929165\n",
       "Garage Lot Name                   100.000000\n",
       "Ferry Direction                    99.999667\n",
       "Ferry Terminal Name                99.999335\n",
       "Latitude                            1.177261\n",
       "Longitude                           1.177261\n",
       "Location                            1.177261\n",
       "dtype: float64"
      ]
     },
     "execution_count": 4,
     "metadata": {},
     "output_type": "execute_result"
    }
   ],
   "source": [
    "df.isnull().sum() / len(df) * 100"
   ]
  },
  {
   "cell_type": "code",
   "execution_count": 5,
   "metadata": {},
   "outputs": [],
   "source": [
    "df.drop(labels='Ferry Direction',axis=1,inplace=True)\n",
    "df.drop(labels='Bridge Highway Segment',axis=1,inplace=True)\n",
    "df.drop(labels='Garage Lot Name',axis=1,inplace=True)\n",
    "df.drop(labels='Road Ramp',axis=1,inplace=True)\n",
    "df.drop(labels='Bridge Highway Direction',axis=1,inplace=True)\n",
    "df.drop(labels='Bridge Highway Name',axis =1,inplace=True)\n",
    "df.drop(labels='Taxi Pick Up Location',axis=1,inplace=True)\n",
    "df.drop(labels='Taxi Company Borough',axis=1,inplace=True)\n",
    "df.drop(labels='Vehicle Type',axis=1,inplace=True)\n",
    "df.drop(labels='School or Citywide Complaint',axis=1,inplace=True)\n",
    "df.drop(labels='Landmark',axis=1,inplace=True)\n",
    "df.drop(labels='Intersection Street 1',axis=1,inplace=True)\n",
    "df.drop(labels='Intersection Street 2',axis=1,inplace=True)"
   ]
  },
  {
   "cell_type": "code",
   "execution_count": 6,
   "metadata": {},
   "outputs": [],
   "source": [
    "df.drop(labels='Ferry Terminal Name',axis=1,inplace=True)"
   ]
  },
  {
   "cell_type": "code",
   "execution_count": 7,
   "metadata": {},
   "outputs": [
    {
     "data": {
      "text/plain": [
       "Unique Key                         0.000000\n",
       "Created Date                       0.000000\n",
       "Closed Date                        0.719659\n",
       "Agency                             0.000000\n",
       "Agency Name                        0.000000\n",
       "Complaint Type                     0.000000\n",
       "Descriptor                         1.966757\n",
       "Location Type                      0.043565\n",
       "Incident Zip                       0.869643\n",
       "Incident Address                  14.768971\n",
       "Street Name                       14.768971\n",
       "Cross Street 1                    16.388203\n",
       "Cross Street 2                    16.554483\n",
       "Address Type                       0.936155\n",
       "City                               0.869311\n",
       "Facility Type                      0.721987\n",
       "Status                             0.000000\n",
       "Due Date                           0.000998\n",
       "Resolution Description             0.000000\n",
       "Resolution Action Updated Date     0.727308\n",
       "Community Board                    0.000000\n",
       "Borough                            0.000000\n",
       "X Coordinate (State Plane)         1.177261\n",
       "Y Coordinate (State Plane)         1.177261\n",
       "Park Facility Name                 0.000000\n",
       "Park Borough                       0.000000\n",
       "School Name                        0.000000\n",
       "School Number                      0.000000\n",
       "School Region                      0.000333\n",
       "School Code                        0.000333\n",
       "School Phone Number                0.000000\n",
       "School Address                     0.000000\n",
       "School City                        0.000000\n",
       "School State                       0.000000\n",
       "School Zip                         0.000333\n",
       "School Not Found                   0.000000\n",
       "Latitude                           1.177261\n",
       "Longitude                          1.177261\n",
       "Location                           1.177261\n",
       "dtype: float64"
      ]
     },
     "execution_count": 7,
     "metadata": {},
     "output_type": "execute_result"
    }
   ],
   "source": [
    "df.isnull().sum() / len(df) * 100"
   ]
  },
  {
   "cell_type": "code",
   "execution_count": 8,
   "metadata": {},
   "outputs": [],
   "source": [
    "df['Incident Address'].fillna(value=df['Incident Address'].mode()[0],inplace=True)\n",
    "df['Street Name'].fillna(value=df['Street Name'].mode()[0],inplace=True)\n",
    "df['Cross Street 1'].fillna(value=df['Cross Street 1'].mode()[0],inplace=True)\n",
    "df['Cross Street 2'].fillna(value=df['Cross Street 2'].mode()[0],inplace=True)"
   ]
  },
  {
   "cell_type": "code",
   "execution_count": 9,
   "metadata": {},
   "outputs": [],
   "source": [
    "df.dropna(axis=0,inplace =True)"
   ]
  },
  {
   "cell_type": "code",
   "execution_count": 10,
   "metadata": {},
   "outputs": [
    {
     "data": {
      "text/plain": [
       "Unique Key                        0.0\n",
       "Created Date                      0.0\n",
       "Closed Date                       0.0\n",
       "Agency                            0.0\n",
       "Agency Name                       0.0\n",
       "Complaint Type                    0.0\n",
       "Descriptor                        0.0\n",
       "Location Type                     0.0\n",
       "Incident Zip                      0.0\n",
       "Incident Address                  0.0\n",
       "Street Name                       0.0\n",
       "Cross Street 1                    0.0\n",
       "Cross Street 2                    0.0\n",
       "Address Type                      0.0\n",
       "City                              0.0\n",
       "Facility Type                     0.0\n",
       "Status                            0.0\n",
       "Due Date                          0.0\n",
       "Resolution Description            0.0\n",
       "Resolution Action Updated Date    0.0\n",
       "Community Board                   0.0\n",
       "Borough                           0.0\n",
       "X Coordinate (State Plane)        0.0\n",
       "Y Coordinate (State Plane)        0.0\n",
       "Park Facility Name                0.0\n",
       "Park Borough                      0.0\n",
       "School Name                       0.0\n",
       "School Number                     0.0\n",
       "School Region                     0.0\n",
       "School Code                       0.0\n",
       "School Phone Number               0.0\n",
       "School Address                    0.0\n",
       "School City                       0.0\n",
       "School State                      0.0\n",
       "School Zip                        0.0\n",
       "School Not Found                  0.0\n",
       "Latitude                          0.0\n",
       "Longitude                         0.0\n",
       "Location                          0.0\n",
       "dtype: float64"
      ]
     },
     "execution_count": 10,
     "metadata": {},
     "output_type": "execute_result"
    }
   ],
   "source": [
    "df.isnull().sum()/len(df)*100"
   ]
  },
  {
   "cell_type": "code",
   "execution_count": 11,
   "metadata": {},
   "outputs": [
    {
     "data": {
      "text/html": [
       "<div>\n",
       "<style scoped>\n",
       "    .dataframe tbody tr th:only-of-type {\n",
       "        vertical-align: middle;\n",
       "    }\n",
       "\n",
       "    .dataframe tbody tr th {\n",
       "        vertical-align: top;\n",
       "    }\n",
       "\n",
       "    .dataframe thead th {\n",
       "        text-align: right;\n",
       "    }\n",
       "</style>\n",
       "<table border=\"1\" class=\"dataframe\">\n",
       "  <thead>\n",
       "    <tr style=\"text-align: right;\">\n",
       "      <th></th>\n",
       "      <th>Unique Key</th>\n",
       "      <th>Created Date</th>\n",
       "      <th>Closed Date</th>\n",
       "      <th>Agency</th>\n",
       "      <th>Agency Name</th>\n",
       "      <th>Complaint Type</th>\n",
       "      <th>Descriptor</th>\n",
       "      <th>Location Type</th>\n",
       "      <th>Incident Zip</th>\n",
       "      <th>Incident Address</th>\n",
       "      <th>...</th>\n",
       "      <th>School Code</th>\n",
       "      <th>School Phone Number</th>\n",
       "      <th>School Address</th>\n",
       "      <th>School City</th>\n",
       "      <th>School State</th>\n",
       "      <th>School Zip</th>\n",
       "      <th>School Not Found</th>\n",
       "      <th>Latitude</th>\n",
       "      <th>Longitude</th>\n",
       "      <th>Location</th>\n",
       "    </tr>\n",
       "  </thead>\n",
       "  <tbody>\n",
       "    <tr>\n",
       "      <th>0</th>\n",
       "      <td>32310363</td>\n",
       "      <td>12/31/2015 11:59:45 PM</td>\n",
       "      <td>01-01-16 0:55</td>\n",
       "      <td>NYPD</td>\n",
       "      <td>New York City Police Department</td>\n",
       "      <td>Noise - Street/Sidewalk</td>\n",
       "      <td>Loud Music/Party</td>\n",
       "      <td>Street/Sidewalk</td>\n",
       "      <td>10034.0</td>\n",
       "      <td>71 VERMILYEA AVENUE</td>\n",
       "      <td>...</td>\n",
       "      <td>Unspecified</td>\n",
       "      <td>Unspecified</td>\n",
       "      <td>Unspecified</td>\n",
       "      <td>Unspecified</td>\n",
       "      <td>Unspecified</td>\n",
       "      <td>Unspecified</td>\n",
       "      <td>N</td>\n",
       "      <td>40.865682</td>\n",
       "      <td>-73.923501</td>\n",
       "      <td>(40.86568153633767, -73.92350095571744)</td>\n",
       "    </tr>\n",
       "    <tr>\n",
       "      <th>1</th>\n",
       "      <td>32309934</td>\n",
       "      <td>12/31/2015 11:59:44 PM</td>\n",
       "      <td>01-01-16 1:26</td>\n",
       "      <td>NYPD</td>\n",
       "      <td>New York City Police Department</td>\n",
       "      <td>Blocked Driveway</td>\n",
       "      <td>No Access</td>\n",
       "      <td>Street/Sidewalk</td>\n",
       "      <td>11105.0</td>\n",
       "      <td>27-07 23 AVENUE</td>\n",
       "      <td>...</td>\n",
       "      <td>Unspecified</td>\n",
       "      <td>Unspecified</td>\n",
       "      <td>Unspecified</td>\n",
       "      <td>Unspecified</td>\n",
       "      <td>Unspecified</td>\n",
       "      <td>Unspecified</td>\n",
       "      <td>N</td>\n",
       "      <td>40.775945</td>\n",
       "      <td>-73.915094</td>\n",
       "      <td>(40.775945312321085, -73.91509393898605)</td>\n",
       "    </tr>\n",
       "  </tbody>\n",
       "</table>\n",
       "<p>2 rows × 39 columns</p>\n",
       "</div>"
      ],
      "text/plain": [
       "   Unique Key            Created Date    Closed Date Agency  \\\n",
       "0    32310363  12/31/2015 11:59:45 PM  01-01-16 0:55   NYPD   \n",
       "1    32309934  12/31/2015 11:59:44 PM  01-01-16 1:26   NYPD   \n",
       "\n",
       "                       Agency Name           Complaint Type        Descriptor  \\\n",
       "0  New York City Police Department  Noise - Street/Sidewalk  Loud Music/Party   \n",
       "1  New York City Police Department         Blocked Driveway         No Access   \n",
       "\n",
       "     Location Type  Incident Zip     Incident Address  ...  School Code  \\\n",
       "0  Street/Sidewalk       10034.0  71 VERMILYEA AVENUE  ...  Unspecified   \n",
       "1  Street/Sidewalk       11105.0      27-07 23 AVENUE  ...  Unspecified   \n",
       "\n",
       "  School Phone Number School Address  School City School State   School Zip  \\\n",
       "0         Unspecified    Unspecified  Unspecified  Unspecified  Unspecified   \n",
       "1         Unspecified    Unspecified  Unspecified  Unspecified  Unspecified   \n",
       "\n",
       "  School Not Found   Latitude  Longitude  \\\n",
       "0                N  40.865682 -73.923501   \n",
       "1                N  40.775945 -73.915094   \n",
       "\n",
       "                                   Location  \n",
       "0   (40.86568153633767, -73.92350095571744)  \n",
       "1  (40.775945312321085, -73.91509393898605)  \n",
       "\n",
       "[2 rows x 39 columns]"
      ]
     },
     "execution_count": 11,
     "metadata": {},
     "output_type": "execute_result"
    }
   ],
   "source": [
    "df.head(2)"
   ]
  },
  {
   "cell_type": "code",
   "execution_count": 12,
   "metadata": {},
   "outputs": [
    {
     "data": {
      "text/plain": [
       "Index(['Unique Key', 'Created Date', 'Closed Date', 'Agency', 'Agency Name',\n",
       "       'Complaint Type', 'Descriptor', 'Location Type', 'Incident Zip',\n",
       "       'Incident Address', 'Street Name', 'Cross Street 1', 'Cross Street 2',\n",
       "       'Address Type', 'City', 'Facility Type', 'Status', 'Due Date',\n",
       "       'Resolution Description', 'Resolution Action Updated Date',\n",
       "       'Community Board', 'Borough', 'X Coordinate (State Plane)',\n",
       "       'Y Coordinate (State Plane)', 'Park Facility Name', 'Park Borough',\n",
       "       'School Name', 'School Number', 'School Region', 'School Code',\n",
       "       'School Phone Number', 'School Address', 'School City', 'School State',\n",
       "       'School Zip', 'School Not Found', 'Latitude', 'Longitude', 'Location'],\n",
       "      dtype='object')"
      ]
     },
     "execution_count": 12,
     "metadata": {},
     "output_type": "execute_result"
    }
   ],
   "source": [
    "df.keys()"
   ]
  },
  {
   "cell_type": "markdown",
   "metadata": {},
   "source": [
    "# Q2) Read or convert the columns ‘Created Date’ and Closed Date’ to datetime datatype and create a new column ‘Request_Closing_Time’ as the time elapsed between request creation and request closing. "
   ]
  },
  {
   "cell_type": "code",
   "execution_count": 13,
   "metadata": {},
   "outputs": [],
   "source": [
    "df['Created Date'] = pd.to_datetime(df['Created Date'])"
   ]
  },
  {
   "cell_type": "code",
   "execution_count": 14,
   "metadata": {},
   "outputs": [],
   "source": [
    "df['Closed Date'] = pd.to_datetime(df['Closed Date'])"
   ]
  },
  {
   "cell_type": "code",
   "execution_count": 15,
   "metadata": {},
   "outputs": [
    {
     "data": {
      "text/html": [
       "<div>\n",
       "<style scoped>\n",
       "    .dataframe tbody tr th:only-of-type {\n",
       "        vertical-align: middle;\n",
       "    }\n",
       "\n",
       "    .dataframe tbody tr th {\n",
       "        vertical-align: top;\n",
       "    }\n",
       "\n",
       "    .dataframe thead th {\n",
       "        text-align: right;\n",
       "    }\n",
       "</style>\n",
       "<table border=\"1\" class=\"dataframe\">\n",
       "  <thead>\n",
       "    <tr style=\"text-align: right;\">\n",
       "      <th></th>\n",
       "      <th>Unique Key</th>\n",
       "      <th>Created Date</th>\n",
       "      <th>Closed Date</th>\n",
       "      <th>Agency</th>\n",
       "      <th>Agency Name</th>\n",
       "      <th>Complaint Type</th>\n",
       "      <th>Descriptor</th>\n",
       "      <th>Location Type</th>\n",
       "      <th>Incident Zip</th>\n",
       "      <th>Incident Address</th>\n",
       "      <th>...</th>\n",
       "      <th>School Code</th>\n",
       "      <th>School Phone Number</th>\n",
       "      <th>School Address</th>\n",
       "      <th>School City</th>\n",
       "      <th>School State</th>\n",
       "      <th>School Zip</th>\n",
       "      <th>School Not Found</th>\n",
       "      <th>Latitude</th>\n",
       "      <th>Longitude</th>\n",
       "      <th>Location</th>\n",
       "    </tr>\n",
       "  </thead>\n",
       "  <tbody>\n",
       "    <tr>\n",
       "      <th>0</th>\n",
       "      <td>32310363</td>\n",
       "      <td>2015-12-31 23:59:45</td>\n",
       "      <td>2016-01-01 00:55:00</td>\n",
       "      <td>NYPD</td>\n",
       "      <td>New York City Police Department</td>\n",
       "      <td>Noise - Street/Sidewalk</td>\n",
       "      <td>Loud Music/Party</td>\n",
       "      <td>Street/Sidewalk</td>\n",
       "      <td>10034.0</td>\n",
       "      <td>71 VERMILYEA AVENUE</td>\n",
       "      <td>...</td>\n",
       "      <td>Unspecified</td>\n",
       "      <td>Unspecified</td>\n",
       "      <td>Unspecified</td>\n",
       "      <td>Unspecified</td>\n",
       "      <td>Unspecified</td>\n",
       "      <td>Unspecified</td>\n",
       "      <td>N</td>\n",
       "      <td>40.865682</td>\n",
       "      <td>-73.923501</td>\n",
       "      <td>(40.86568153633767, -73.92350095571744)</td>\n",
       "    </tr>\n",
       "    <tr>\n",
       "      <th>1</th>\n",
       "      <td>32309934</td>\n",
       "      <td>2015-12-31 23:59:44</td>\n",
       "      <td>2016-01-01 01:26:00</td>\n",
       "      <td>NYPD</td>\n",
       "      <td>New York City Police Department</td>\n",
       "      <td>Blocked Driveway</td>\n",
       "      <td>No Access</td>\n",
       "      <td>Street/Sidewalk</td>\n",
       "      <td>11105.0</td>\n",
       "      <td>27-07 23 AVENUE</td>\n",
       "      <td>...</td>\n",
       "      <td>Unspecified</td>\n",
       "      <td>Unspecified</td>\n",
       "      <td>Unspecified</td>\n",
       "      <td>Unspecified</td>\n",
       "      <td>Unspecified</td>\n",
       "      <td>Unspecified</td>\n",
       "      <td>N</td>\n",
       "      <td>40.775945</td>\n",
       "      <td>-73.915094</td>\n",
       "      <td>(40.775945312321085, -73.91509393898605)</td>\n",
       "    </tr>\n",
       "  </tbody>\n",
       "</table>\n",
       "<p>2 rows × 39 columns</p>\n",
       "</div>"
      ],
      "text/plain": [
       "   Unique Key        Created Date         Closed Date Agency  \\\n",
       "0    32310363 2015-12-31 23:59:45 2016-01-01 00:55:00   NYPD   \n",
       "1    32309934 2015-12-31 23:59:44 2016-01-01 01:26:00   NYPD   \n",
       "\n",
       "                       Agency Name           Complaint Type        Descriptor  \\\n",
       "0  New York City Police Department  Noise - Street/Sidewalk  Loud Music/Party   \n",
       "1  New York City Police Department         Blocked Driveway         No Access   \n",
       "\n",
       "     Location Type  Incident Zip     Incident Address  ...  School Code  \\\n",
       "0  Street/Sidewalk       10034.0  71 VERMILYEA AVENUE  ...  Unspecified   \n",
       "1  Street/Sidewalk       11105.0      27-07 23 AVENUE  ...  Unspecified   \n",
       "\n",
       "  School Phone Number School Address  School City School State   School Zip  \\\n",
       "0         Unspecified    Unspecified  Unspecified  Unspecified  Unspecified   \n",
       "1         Unspecified    Unspecified  Unspecified  Unspecified  Unspecified   \n",
       "\n",
       "  School Not Found   Latitude  Longitude  \\\n",
       "0                N  40.865682 -73.923501   \n",
       "1                N  40.775945 -73.915094   \n",
       "\n",
       "                                   Location  \n",
       "0   (40.86568153633767, -73.92350095571744)  \n",
       "1  (40.775945312321085, -73.91509393898605)  \n",
       "\n",
       "[2 rows x 39 columns]"
      ]
     },
     "execution_count": 15,
     "metadata": {},
     "output_type": "execute_result"
    }
   ],
   "source": [
    "df.head(2)"
   ]
  },
  {
   "cell_type": "code",
   "execution_count": 16,
   "metadata": {},
   "outputs": [
    {
     "name": "stdout",
     "output_type": "stream",
     "text": [
      "<class 'pandas.core.frame.DataFrame'>\n",
      "Int64Index: 290881 entries, 0 to 300697\n",
      "Data columns (total 39 columns):\n",
      " #   Column                          Non-Null Count   Dtype         \n",
      "---  ------                          --------------   -----         \n",
      " 0   Unique Key                      290881 non-null  int64         \n",
      " 1   Created Date                    290881 non-null  datetime64[ns]\n",
      " 2   Closed Date                     290881 non-null  datetime64[ns]\n",
      " 3   Agency                          290881 non-null  object        \n",
      " 4   Agency Name                     290881 non-null  object        \n",
      " 5   Complaint Type                  290881 non-null  object        \n",
      " 6   Descriptor                      290881 non-null  object        \n",
      " 7   Location Type                   290881 non-null  object        \n",
      " 8   Incident Zip                    290881 non-null  float64       \n",
      " 9   Incident Address                290881 non-null  object        \n",
      " 10  Street Name                     290881 non-null  object        \n",
      " 11  Cross Street 1                  290881 non-null  object        \n",
      " 12  Cross Street 2                  290881 non-null  object        \n",
      " 13  Address Type                    290881 non-null  object        \n",
      " 14  City                            290881 non-null  object        \n",
      " 15  Facility Type                   290881 non-null  object        \n",
      " 16  Status                          290881 non-null  object        \n",
      " 17  Due Date                        290881 non-null  object        \n",
      " 18  Resolution Description          290881 non-null  object        \n",
      " 19  Resolution Action Updated Date  290881 non-null  object        \n",
      " 20  Community Board                 290881 non-null  object        \n",
      " 21  Borough                         290881 non-null  object        \n",
      " 22  X Coordinate (State Plane)      290881 non-null  float64       \n",
      " 23  Y Coordinate (State Plane)      290881 non-null  float64       \n",
      " 24  Park Facility Name              290881 non-null  object        \n",
      " 25  Park Borough                    290881 non-null  object        \n",
      " 26  School Name                     290881 non-null  object        \n",
      " 27  School Number                   290881 non-null  object        \n",
      " 28  School Region                   290881 non-null  object        \n",
      " 29  School Code                     290881 non-null  object        \n",
      " 30  School Phone Number             290881 non-null  object        \n",
      " 31  School Address                  290881 non-null  object        \n",
      " 32  School City                     290881 non-null  object        \n",
      " 33  School State                    290881 non-null  object        \n",
      " 34  School Zip                      290881 non-null  object        \n",
      " 35  School Not Found                290881 non-null  object        \n",
      " 36  Latitude                        290881 non-null  float64       \n",
      " 37  Longitude                       290881 non-null  float64       \n",
      " 38  Location                        290881 non-null  object        \n",
      "dtypes: datetime64[ns](2), float64(5), int64(1), object(31)\n",
      "memory usage: 88.8+ MB\n"
     ]
    }
   ],
   "source": [
    "df.info()"
   ]
  },
  {
   "cell_type": "code",
   "execution_count": 17,
   "metadata": {},
   "outputs": [],
   "source": [
    "d = df['Closed Date'] - df['Created Date'] # time period to solve the problem"
   ]
  },
  {
   "cell_type": "code",
   "execution_count": 18,
   "metadata": {},
   "outputs": [],
   "source": [
    "df['seconds to solve'] = d.dt.seconds"
   ]
  },
  {
   "cell_type": "code",
   "execution_count": 19,
   "metadata": {},
   "outputs": [],
   "source": [
    "df['Request Closing Time'] = df['seconds to solve'] / 3600"
   ]
  },
  {
   "cell_type": "code",
   "execution_count": 20,
   "metadata": {},
   "outputs": [
    {
     "data": {
      "text/html": [
       "<div>\n",
       "<style scoped>\n",
       "    .dataframe tbody tr th:only-of-type {\n",
       "        vertical-align: middle;\n",
       "    }\n",
       "\n",
       "    .dataframe tbody tr th {\n",
       "        vertical-align: top;\n",
       "    }\n",
       "\n",
       "    .dataframe thead th {\n",
       "        text-align: right;\n",
       "    }\n",
       "</style>\n",
       "<table border=\"1\" class=\"dataframe\">\n",
       "  <thead>\n",
       "    <tr style=\"text-align: right;\">\n",
       "      <th></th>\n",
       "      <th>Unique Key</th>\n",
       "      <th>Created Date</th>\n",
       "      <th>Closed Date</th>\n",
       "      <th>Agency</th>\n",
       "      <th>Agency Name</th>\n",
       "      <th>Complaint Type</th>\n",
       "      <th>Descriptor</th>\n",
       "      <th>Location Type</th>\n",
       "      <th>Incident Zip</th>\n",
       "      <th>Incident Address</th>\n",
       "      <th>...</th>\n",
       "      <th>School Address</th>\n",
       "      <th>School City</th>\n",
       "      <th>School State</th>\n",
       "      <th>School Zip</th>\n",
       "      <th>School Not Found</th>\n",
       "      <th>Latitude</th>\n",
       "      <th>Longitude</th>\n",
       "      <th>Location</th>\n",
       "      <th>seconds to solve</th>\n",
       "      <th>Request Closing Time</th>\n",
       "    </tr>\n",
       "  </thead>\n",
       "  <tbody>\n",
       "    <tr>\n",
       "      <th>0</th>\n",
       "      <td>32310363</td>\n",
       "      <td>2015-12-31 23:59:45</td>\n",
       "      <td>2016-01-01 00:55:00</td>\n",
       "      <td>NYPD</td>\n",
       "      <td>New York City Police Department</td>\n",
       "      <td>Noise - Street/Sidewalk</td>\n",
       "      <td>Loud Music/Party</td>\n",
       "      <td>Street/Sidewalk</td>\n",
       "      <td>10034.0</td>\n",
       "      <td>71 VERMILYEA AVENUE</td>\n",
       "      <td>...</td>\n",
       "      <td>Unspecified</td>\n",
       "      <td>Unspecified</td>\n",
       "      <td>Unspecified</td>\n",
       "      <td>Unspecified</td>\n",
       "      <td>N</td>\n",
       "      <td>40.865682</td>\n",
       "      <td>-73.923501</td>\n",
       "      <td>(40.86568153633767, -73.92350095571744)</td>\n",
       "      <td>3315</td>\n",
       "      <td>0.920833</td>\n",
       "    </tr>\n",
       "    <tr>\n",
       "      <th>1</th>\n",
       "      <td>32309934</td>\n",
       "      <td>2015-12-31 23:59:44</td>\n",
       "      <td>2016-01-01 01:26:00</td>\n",
       "      <td>NYPD</td>\n",
       "      <td>New York City Police Department</td>\n",
       "      <td>Blocked Driveway</td>\n",
       "      <td>No Access</td>\n",
       "      <td>Street/Sidewalk</td>\n",
       "      <td>11105.0</td>\n",
       "      <td>27-07 23 AVENUE</td>\n",
       "      <td>...</td>\n",
       "      <td>Unspecified</td>\n",
       "      <td>Unspecified</td>\n",
       "      <td>Unspecified</td>\n",
       "      <td>Unspecified</td>\n",
       "      <td>N</td>\n",
       "      <td>40.775945</td>\n",
       "      <td>-73.915094</td>\n",
       "      <td>(40.775945312321085, -73.91509393898605)</td>\n",
       "      <td>5176</td>\n",
       "      <td>1.437778</td>\n",
       "    </tr>\n",
       "  </tbody>\n",
       "</table>\n",
       "<p>2 rows × 41 columns</p>\n",
       "</div>"
      ],
      "text/plain": [
       "   Unique Key        Created Date         Closed Date Agency  \\\n",
       "0    32310363 2015-12-31 23:59:45 2016-01-01 00:55:00   NYPD   \n",
       "1    32309934 2015-12-31 23:59:44 2016-01-01 01:26:00   NYPD   \n",
       "\n",
       "                       Agency Name           Complaint Type        Descriptor  \\\n",
       "0  New York City Police Department  Noise - Street/Sidewalk  Loud Music/Party   \n",
       "1  New York City Police Department         Blocked Driveway         No Access   \n",
       "\n",
       "     Location Type  Incident Zip     Incident Address  ... School Address  \\\n",
       "0  Street/Sidewalk       10034.0  71 VERMILYEA AVENUE  ...    Unspecified   \n",
       "1  Street/Sidewalk       11105.0      27-07 23 AVENUE  ...    Unspecified   \n",
       "\n",
       "   School City School State   School Zip School Not Found   Latitude  \\\n",
       "0  Unspecified  Unspecified  Unspecified                N  40.865682   \n",
       "1  Unspecified  Unspecified  Unspecified                N  40.775945   \n",
       "\n",
       "   Longitude                                  Location seconds to solve  \\\n",
       "0 -73.923501   (40.86568153633767, -73.92350095571744)             3315   \n",
       "1 -73.915094  (40.775945312321085, -73.91509393898605)             5176   \n",
       "\n",
       "  Request Closing Time  \n",
       "0             0.920833  \n",
       "1             1.437778  \n",
       "\n",
       "[2 rows x 41 columns]"
      ]
     },
     "execution_count": 20,
     "metadata": {},
     "output_type": "execute_result"
    }
   ],
   "source": [
    "df.head(2)"
   ]
  },
  {
   "cell_type": "code",
   "execution_count": 21,
   "metadata": {},
   "outputs": [
    {
     "data": {
      "text/plain": [
       "Index(['Unique Key', 'Created Date', 'Closed Date', 'Agency', 'Agency Name',\n",
       "       'Complaint Type', 'Descriptor', 'Location Type', 'Incident Zip',\n",
       "       'Incident Address', 'Street Name', 'Cross Street 1', 'Cross Street 2',\n",
       "       'Address Type', 'City', 'Facility Type', 'Status', 'Due Date',\n",
       "       'Resolution Description', 'Resolution Action Updated Date',\n",
       "       'Community Board', 'Borough', 'X Coordinate (State Plane)',\n",
       "       'Y Coordinate (State Plane)', 'Park Facility Name', 'Park Borough',\n",
       "       'School Name', 'School Number', 'School Region', 'School Code',\n",
       "       'School Phone Number', 'School Address', 'School City', 'School State',\n",
       "       'School Zip', 'School Not Found', 'Latitude', 'Longitude', 'Location',\n",
       "       'seconds to solve', 'Request Closing Time'],\n",
       "      dtype='object')"
      ]
     },
     "execution_count": 21,
     "metadata": {},
     "output_type": "execute_result"
    }
   ],
   "source": [
    "df.keys()"
   ]
  },
  {
   "cell_type": "markdown",
   "metadata": {},
   "source": [
    "# Q3)Provide major insights/patterns that you can offer in a visual format (graphs or tables); at least 4 major conclusions that you can come up with after generic data mining."
   ]
  },
  {
   "cell_type": "code",
   "execution_count": 71,
   "metadata": {},
   "outputs": [
    {
     "data": {
      "text/plain": [
       "Loud Music/Party                  60443\n",
       "No Access                         56724\n",
       "Posted Parking Sign Violation     22103\n",
       "Loud Talking                      21253\n",
       "Partial Access                    19951\n",
       "With License Plate                17496\n",
       "Blocked Hydrant                   15837\n",
       "Commercial Overnight Parking      11908\n",
       "Car/Truck Music                   11113\n",
       "Blocked Sidewalk                  10929\n",
       "Double Parked Blocking Traffic     5558\n",
       "Double Parked Blocking Vehicle     4147\n",
       "Engine Idling                      4134\n",
       "Banging/Pounding                   4090\n",
       "Neglected                          3770\n",
       "Car/Truck Horn                     3477\n",
       "Congestion/Gridlock                2554\n",
       "In Prohibited Area                 2017\n",
       "Other (complaint details)          1961\n",
       "Unlicensed                         1756\n",
       "Overnight Commercial Storage       1746\n",
       "Unauthorized Bus Layover           1333\n",
       "Truck Route Violation               982\n",
       "In Public                           923\n",
       "Tortured                            849\n",
       "Vehicle                             587\n",
       "Chained                             534\n",
       "Detached Trailer                    459\n",
       "No Shelter                          381\n",
       "Chronic Stoplight Violation         280\n",
       "Underage - Licensed Est             270\n",
       "Chronic Speeding                    266\n",
       "In Car                              248\n",
       "Playing in Unsuitable Place         245\n",
       "Drag Racing                         174\n",
       "Loud Television                      93\n",
       "Police Report Requested              90\n",
       "After Hours - Licensed Est           77\n",
       "Building                             60\n",
       "Nuisance/Truant                      40\n",
       "Police Report Not Requested          23\n",
       "Name: Descriptor, dtype: int64"
      ]
     },
     "execution_count": 71,
     "metadata": {},
     "output_type": "execute_result"
    }
   ],
   "source": [
    "df['Descriptor'].value_counts()"
   ]
  },
  {
   "cell_type": "code",
   "execution_count": 75,
   "metadata": {},
   "outputs": [],
   "source": [
    "a= df[df['Descriptor']== 'Loud Music/Party']['Location Type'].value_counts()"
   ]
  },
  {
   "cell_type": "code",
   "execution_count": 76,
   "metadata": {},
   "outputs": [
    {
     "data": {
      "text/plain": [
       "<matplotlib.axes._subplots.AxesSubplot at 0x465d425b80>"
      ]
     },
     "execution_count": 76,
     "metadata": {},
     "output_type": "execute_result"
    },
    {
     "data": {
      "image/png": "[encoded data removed]",
      "text/plain": [
       "<Figure size 432x288 with 1 Axes>"
      ]
     },
     "metadata": {
      "needs_background": "light"
     },
     "output_type": "display_data"
    }
   ],
   "source": [
    "a.plot(kind='bar')"
   ]
  },
  {
   "cell_type": "markdown",
   "metadata": {},
   "source": [
    "Loud Music Party Complaints mostly came from Street/Sidewalk\n"
   ]
  },
  {
   "cell_type": "code",
   "execution_count": 77,
   "metadata": {},
   "outputs": [
    {
     "data": {
      "text/plain": [
       "Closed    290881\n",
       "Name: Status, dtype: int64"
      ]
     },
     "execution_count": 77,
     "metadata": {},
     "output_type": "execute_result"
    }
   ],
   "source": [
    "df['Status'].value_counts()"
   ]
  },
  {
   "cell_type": "markdown",
   "metadata": {},
   "source": [
    "There is no open cases."
   ]
  },
  {
   "cell_type": "markdown",
   "metadata": {},
   "source": [
    "-> Which top 5 Complaints registered most no. of arrests ?"
   ]
  },
  {
   "cell_type": "code",
   "execution_count": 88,
   "metadata": {},
   "outputs": [
    {
     "data": {
      "text/plain": [
       "The Police Department responded to the complaint and with the information available observed no evidence of the violation at that time.                                                      88073\n",
       "The Police Department responded to the complaint and took action to fix the condition.                                                                                                       59383\n",
       "The Police Department responded and upon arrival those responsible for the condition were gone.                                                                                              56615\n",
       "The Police Department responded to the complaint and determined that police action was not necessary.                                                                                        37369\n",
       "The Police Department issued a summons in response to the complaint.                                                                                                                         28180\n",
       "The Police Department reviewed your complaint and provided additional information below.                                                                                                     13479\n",
       "Your request can not be processed at this time because of insufficient contact information. Please create a new Service Request on NYC.gov and provide more detailed contact information.     4121\n",
       "This complaint does not fall under the Police Department's jurisdiction.                                                                                                                      1687\n",
       "The Police Department responded to the complaint but officers were unable to gain entry into the premises.                                                                                    1188\n",
       "The Police Department responded to the complaint and a report was prepared.                                                                                                                    665\n",
       "The Police Department made an arrest in response to the complaint.                                                                                                                             121\n",
       "Name: Resolution Description, dtype: int64"
      ]
     },
     "execution_count": 88,
     "metadata": {},
     "output_type": "execute_result"
    }
   ],
   "source": [
    "df['Resolution Description'].value_counts()"
   ]
  },
  {
   "cell_type": "code",
   "execution_count": 95,
   "metadata": {},
   "outputs": [],
   "source": [
    "arrests=df[df['Resolution Description']=='The Police Department made an arrest in response to the complaint.']['Complaint Type'].value_counts().head(5)"
   ]
  },
  {
   "cell_type": "code",
   "execution_count": 96,
   "metadata": {},
   "outputs": [
    {
     "data": {
      "text/plain": [
       "<matplotlib.axes._subplots.AxesSubplot at 0x465d481310>"
      ]
     },
     "execution_count": 96,
     "metadata": {},
     "output_type": "execute_result"
    },
    {
     "data": {
      "image/png": "[encoded data removed]",
      "text/plain": [
       "<Figure size 432x288 with 1 Axes>"
      ]
     },
     "metadata": {},
     "output_type": "display_data"
    }
   ],
   "source": [
    "arrests.plot(kind='pie')"
   ]
  },
  {
   "cell_type": "markdown",
   "metadata": {},
   "source": [
    "So these are the top 5 complaints which resgistered arrests among them Noise-Street/Sidewalk has the highest number of arrests."
   ]
  },
  {
   "cell_type": "markdown",
   "metadata": {},
   "source": [
    "Which 4 cities has the highest number of complaints & name the most popular complaint of each of them?"
   ]
  },
  {
   "cell_type": "code",
   "execution_count": 22,
   "metadata": {},
   "outputs": [
    {
     "data": {
      "text/plain": [
       "BROOKLYN         96814\n",
       "NEW YORK         61867\n",
       "BRONX            40182\n",
       "STATEN ISLAND    12186\n",
       "Name: City, dtype: int64"
      ]
     },
     "execution_count": 22,
     "metadata": {},
     "output_type": "execute_result"
    }
   ],
   "source": [
    "df['City'].value_counts().head(4)"
   ]
  },
  {
   "cell_type": "code",
   "execution_count": 23,
   "metadata": {},
   "outputs": [
    {
     "data": {
      "text/plain": [
       "Blocked Driveway            28119\n",
       "Illegal Parking             27386\n",
       "Noise - Street/Sidewalk     13316\n",
       "Noise - Commercial          11451\n",
       "Derelict Vehicle             5161\n",
       "Noise - Vehicle              5145\n",
       "Animal Abuse                 2390\n",
       "Noise - Park                 1537\n",
       "Traffic                      1040\n",
       "Vending                       514\n",
       "Noise - House of Worship      338\n",
       "Drinking                      257\n",
       "Disorderly Youth               72\n",
       "Posting Advertisement          45\n",
       "Graffiti                       43\n",
       "Name: Complaint Type, dtype: int64"
      ]
     },
     "execution_count": 23,
     "metadata": {},
     "output_type": "execute_result"
    }
   ],
   "source": [
    "g= df[df['City']=='BROOKLYN']['Complaint Type'].value_counts()\n",
    "g"
   ]
  },
  {
   "cell_type": "code",
   "execution_count": 24,
   "metadata": {},
   "outputs": [
    {
     "data": {
      "text/plain": [
       "<matplotlib.axes._subplots.AxesSubplot at 0x4645bdaa30>"
      ]
     },
     "execution_count": 24,
     "metadata": {},
     "output_type": "execute_result"
    },
    {
     "data": {
      "image/png": "[encoded data removed]",
      "text/plain": [
       "<Figure size 432x288 with 1 Axes>"
      ]
     },
     "metadata": {
      "needs_background": "light"
     },
     "output_type": "display_data"
    }
   ],
   "source": [
    "g.plot(kind='bar')"
   ]
  },
  {
   "cell_type": "code",
   "execution_count": 25,
   "metadata": {},
   "outputs": [],
   "source": [
    "#BROOKLYN has highest number of Complaints of which Blocked Driveway is the most popular complaint."
   ]
  },
  {
   "cell_type": "code",
   "execution_count": 26,
   "metadata": {},
   "outputs": [],
   "source": [
    "j= df[df['City']=='NEW YORK']['Complaint Type'].value_counts()"
   ]
  },
  {
   "cell_type": "code",
   "execution_count": 27,
   "metadata": {},
   "outputs": [
    {
     "data": {
      "text/plain": [
       "<matplotlib.axes._subplots.AxesSubplot at 0x4645cce970>"
      ]
     },
     "execution_count": 27,
     "metadata": {},
     "output_type": "execute_result"
    },
    {
     "data": {
      "image/png": "[encoded data removed]",
      "text/plain": [
       "<Figure size 432x288 with 1 Axes>"
      ]
     },
     "metadata": {
      "needs_background": "light"
     },
     "output_type": "display_data"
    }
   ],
   "source": [
    "j.plot(kind='bar')"
   ]
  },
  {
   "cell_type": "code",
   "execution_count": 28,
   "metadata": {},
   "outputs": [],
   "source": [
    "#Noise-Street/Sidewalk is the most popular complaint in NEW YORK"
   ]
  },
  {
   "cell_type": "code",
   "execution_count": 29,
   "metadata": {},
   "outputs": [],
   "source": [
    "l= df[df['City']=='BRONX']['Complaint Type'].value_counts()"
   ]
  },
  {
   "cell_type": "code",
   "execution_count": 30,
   "metadata": {},
   "outputs": [
    {
     "data": {
      "text/plain": [
       "<matplotlib.axes._subplots.AxesSubplot at 0x4645d7e310>"
      ]
     },
     "execution_count": 30,
     "metadata": {},
     "output_type": "execute_result"
    },
    {
     "data": {
      "image/png": "[encoded data removed]",
      "text/plain": [
       "<Figure size 432x288 with 1 Axes>"
      ]
     },
     "metadata": {
      "needs_background": "light"
     },
     "output_type": "display_data"
    }
   ],
   "source": [
    "l.plot(kind='bar')"
   ]
  },
  {
   "cell_type": "code",
   "execution_count": 31,
   "metadata": {},
   "outputs": [],
   "source": [
    "#Blocked Driveway is the most popular complaint in Bronx"
   ]
  },
  {
   "cell_type": "code",
   "execution_count": 32,
   "metadata": {},
   "outputs": [],
   "source": [
    "t= df[df['City']=='STATEN ISLAND']['Complaint Type'].value_counts()"
   ]
  },
  {
   "cell_type": "code",
   "execution_count": 33,
   "metadata": {},
   "outputs": [
    {
     "data": {
      "text/plain": [
       "<matplotlib.axes._subplots.AxesSubplot at 0x4646081ca0>"
      ]
     },
     "execution_count": 33,
     "metadata": {},
     "output_type": "execute_result"
    },
    {
     "data": {
      "image/png": "[encoded data removed]",
      "text/plain": [
       "<Figure size 432x288 with 1 Axes>"
      ]
     },
     "metadata": {
      "needs_background": "light"
     },
     "output_type": "display_data"
    }
   ],
   "source": [
    "t.plot(kind='bar')"
   ]
  },
  {
   "cell_type": "code",
   "execution_count": 34,
   "metadata": {},
   "outputs": [],
   "source": [
    "#Illegal Parking is the most popular issue in STATEN ISLAND"
   ]
  },
  {
   "cell_type": "markdown",
   "metadata": {},
   "source": [
    "Dropped All of the following columns because values were unspecified."
   ]
  },
  {
   "cell_type": "code",
   "execution_count": 35,
   "metadata": {},
   "outputs": [],
   "source": [
    "df.drop(labels='School Name',axis=1,inplace=True)\n",
    "df.drop(labels='School Number',axis=1,inplace=True)\n",
    "df.drop(labels='School Region',axis=1,inplace=True)\n",
    "df.drop(labels='School Code',axis=1,inplace=True)"
   ]
  },
  {
   "cell_type": "code",
   "execution_count": 36,
   "metadata": {},
   "outputs": [],
   "source": [
    "df.drop(labels='School Phone Number',axis=1,inplace=True)\n",
    "df.drop(labels='School Address',axis=1,inplace=True)\n",
    "df.drop(labels='School City',axis=1,inplace=True)\n",
    "df.drop(labels='School State',axis=1,inplace=True)\n",
    "df.drop(labels='School Zip',axis=1,inplace=True)"
   ]
  },
  {
   "cell_type": "code",
   "execution_count": 37,
   "metadata": {},
   "outputs": [
    {
     "name": "stdout",
     "output_type": "stream",
     "text": [
      "<class 'pandas.core.frame.DataFrame'>\n",
      "Int64Index: 290881 entries, 0 to 300697\n",
      "Data columns (total 32 columns):\n",
      " #   Column                          Non-Null Count   Dtype         \n",
      "---  ------                          --------------   -----         \n",
      " 0   Unique Key                      290881 non-null  int64         \n",
      " 1   Created Date                    290881 non-null  datetime64[ns]\n",
      " 2   Closed Date                     290881 non-null  datetime64[ns]\n",
      " 3   Agency                          290881 non-null  object        \n",
      " 4   Agency Name                     290881 non-null  object        \n",
      " 5   Complaint Type                  290881 non-null  object        \n",
      " 6   Descriptor                      290881 non-null  object        \n",
      " 7   Location Type                   290881 non-null  object        \n",
      " 8   Incident Zip                    290881 non-null  float64       \n",
      " 9   Incident Address                290881 non-null  object        \n",
      " 10  Street Name                     290881 non-null  object        \n",
      " 11  Cross Street 1                  290881 non-null  object        \n",
      " 12  Cross Street 2                  290881 non-null  object        \n",
      " 13  Address Type                    290881 non-null  object        \n",
      " 14  City                            290881 non-null  object        \n",
      " 15  Facility Type                   290881 non-null  object        \n",
      " 16  Status                          290881 non-null  object        \n",
      " 17  Due Date                        290881 non-null  object        \n",
      " 18  Resolution Description          290881 non-null  object        \n",
      " 19  Resolution Action Updated Date  290881 non-null  object        \n",
      " 20  Community Board                 290881 non-null  object        \n",
      " 21  Borough                         290881 non-null  object        \n",
      " 22  X Coordinate (State Plane)      290881 non-null  float64       \n",
      " 23  Y Coordinate (State Plane)      290881 non-null  float64       \n",
      " 24  Park Facility Name              290881 non-null  object        \n",
      " 25  Park Borough                    290881 non-null  object        \n",
      " 26  School Not Found                290881 non-null  object        \n",
      " 27  Latitude                        290881 non-null  float64       \n",
      " 28  Longitude                       290881 non-null  float64       \n",
      " 29  Location                        290881 non-null  object        \n",
      " 30  seconds to solve                290881 non-null  int64         \n",
      " 31  Request Closing Time            290881 non-null  float64       \n",
      "dtypes: datetime64[ns](2), float64(6), int64(2), object(22)\n",
      "memory usage: 73.2+ MB\n"
     ]
    }
   ],
   "source": [
    "df.info()"
   ]
  },
  {
   "cell_type": "code",
   "execution_count": 38,
   "metadata": {},
   "outputs": [
    {
     "data": {
      "text/plain": [
       "New York City Police Department    290881\n",
       "Name: Agency Name, dtype: int64"
      ]
     },
     "execution_count": 38,
     "metadata": {},
     "output_type": "execute_result"
    }
   ],
   "source": [
    "df['Agency Name'].value_counts()"
   ]
  },
  {
   "cell_type": "code",
   "execution_count": 39,
   "metadata": {},
   "outputs": [
    {
     "data": {
      "text/plain": [
       "Street/Sidewalk               242760\n",
       "Store/Commercial               19425\n",
       "Club/Bar/Restaurant            17172\n",
       "Residential Building/House      5752\n",
       "Park/Playground                 4246\n",
       "House of Worship                 920\n",
       "Residential Building             226\n",
       "Parking Lot                      116\n",
       "House and Store                   93\n",
       "Vacant Lot                        77\n",
       "Commercial                        62\n",
       "Subway Station                    22\n",
       "Highway                            5\n",
       "Roadway Tunnel                     5\n",
       "Name: Location Type, dtype: int64"
      ]
     },
     "execution_count": 39,
     "metadata": {},
     "output_type": "execute_result"
    }
   ],
   "source": [
    "df['Location Type'].value_counts()"
   ]
  },
  {
   "cell_type": "markdown",
   "metadata": {},
   "source": [
    "# Q4) Order the complaint types based on the average ‘Request_Closing_Time’, grouping them for different locations."
   ]
  },
  {
   "cell_type": "code",
   "execution_count": 40,
   "metadata": {},
   "outputs": [],
   "source": [
    "df_loc_h = df[['Location Type','Request Closing Time']]\n"
   ]
  },
  {
   "cell_type": "code",
   "execution_count": 41,
   "metadata": {},
   "outputs": [],
   "source": [
    "df_hour_solve_loc_type = df_loc_h.groupby(by='Location Type').mean()"
   ]
  },
  {
   "cell_type": "code",
   "execution_count": 42,
   "metadata": {},
   "outputs": [
    {
     "data": {
      "text/plain": [
       "<matplotlib.axes._subplots.AxesSubplot at 0x464610f9a0>"
      ]
     },
     "execution_count": 42,
     "metadata": {},
     "output_type": "execute_result"
    },
    {
     "data": {
      "image/png": "[encoded data removed]",
      "text/plain": [
       "<Figure size 720x432 with 1 Axes>"
      ]
     },
     "metadata": {
      "needs_background": "light"
     },
     "output_type": "display_data"
    }
   ],
   "source": [
    "fig,ax = plt.subplots(figsize=(10,6))\n",
    "df_hour_solve_loc_type.plot(kind='bar',ax=ax)"
   ]
  },
  {
   "cell_type": "code",
   "execution_count": 43,
   "metadata": {},
   "outputs": [],
   "source": [
    "df_complaint = df[['Complaint Type','Request Closing Time']]"
   ]
  },
  {
   "cell_type": "code",
   "execution_count": 44,
   "metadata": {},
   "outputs": [],
   "source": [
    "df_complaint_solve = df_complaint.groupby(by='Complaint Type').mean()"
   ]
  },
  {
   "cell_type": "code",
   "execution_count": 45,
   "metadata": {},
   "outputs": [
    {
     "data": {
      "text/plain": [
       "<matplotlib.axes._subplots.AxesSubplot at 0x46461b4340>"
      ]
     },
     "execution_count": 45,
     "metadata": {},
     "output_type": "execute_result"
    },
    {
     "data": {
      "image/png": "[encoded data removed]",
      "text/plain": [
       "<Figure size 432x288 with 1 Axes>"
      ]
     },
     "metadata": {
      "needs_background": "light"
     },
     "output_type": "display_data"
    }
   ],
   "source": [
    "df_complaint_solve.plot(kind='bar')"
   ]
  },
  {
   "cell_type": "markdown",
   "metadata": {},
   "source": [
    "# Q5a)Perform a statistical test :- Whether the average response time across complaint types is similar or not (overall)"
   ]
  },
  {
   "cell_type": "code",
   "execution_count": 46,
   "metadata": {},
   "outputs": [
    {
     "data": {
      "text/plain": [
       "<seaborn.axisgrid.FacetGrid at 0x4646248a30>"
      ]
     },
     "execution_count": 46,
     "metadata": {},
     "output_type": "execute_result"
    },
    {
     "data": {
      "image/png": "[encoded data removed]",
      "text/plain": [
       "<Figure size 360x360 with 1 Axes>"
      ]
     },
     "metadata": {
      "needs_background": "light"
     },
     "output_type": "display_data"
    }
   ],
   "source": [
    "fig = sns.catplot(x='Complaint Type',y='Request Closing Time',kind='box',data=df)\n",
    "fig.set_xticklabels(rotation=90)"
   ]
  },
  {
   "cell_type": "code",
   "execution_count": 47,
   "metadata": {},
   "outputs": [
    {
     "data": {
      "text/html": [
       "<div>\n",
       "<style scoped>\n",
       "    .dataframe tbody tr th:only-of-type {\n",
       "        vertical-align: middle;\n",
       "    }\n",
       "\n",
       "    .dataframe tbody tr th {\n",
       "        vertical-align: top;\n",
       "    }\n",
       "\n",
       "    .dataframe thead th {\n",
       "        text-align: right;\n",
       "    }\n",
       "</style>\n",
       "<table border=\"1\" class=\"dataframe\">\n",
       "  <thead>\n",
       "    <tr style=\"text-align: right;\">\n",
       "      <th></th>\n",
       "      <th>Request Closing Time</th>\n",
       "    </tr>\n",
       "    <tr>\n",
       "      <th>Complaint Type</th>\n",
       "      <th></th>\n",
       "    </tr>\n",
       "  </thead>\n",
       "  <tbody>\n",
       "    <tr>\n",
       "      <th>Animal Abuse</th>\n",
       "      <td>4.627397</td>\n",
       "    </tr>\n",
       "    <tr>\n",
       "      <th>Blocked Driveway</th>\n",
       "      <td>4.382400</td>\n",
       "    </tr>\n",
       "    <tr>\n",
       "      <th>Derelict Vehicle</th>\n",
       "      <td>5.582929</td>\n",
       "    </tr>\n",
       "    <tr>\n",
       "      <th>Disorderly Youth</th>\n",
       "      <td>3.484604</td>\n",
       "    </tr>\n",
       "    <tr>\n",
       "      <th>Drinking</th>\n",
       "      <td>3.611536</td>\n",
       "    </tr>\n",
       "    <tr>\n",
       "      <th>Graffiti</th>\n",
       "      <td>5.664526</td>\n",
       "    </tr>\n",
       "    <tr>\n",
       "      <th>Illegal Parking</th>\n",
       "      <td>4.132335</td>\n",
       "    </tr>\n",
       "    <tr>\n",
       "      <th>Noise - Commercial</th>\n",
       "      <td>2.982225</td>\n",
       "    </tr>\n",
       "    <tr>\n",
       "      <th>Noise - House of Worship</th>\n",
       "      <td>2.964972</td>\n",
       "    </tr>\n",
       "    <tr>\n",
       "      <th>Noise - Park</th>\n",
       "      <td>3.243770</td>\n",
       "    </tr>\n",
       "    <tr>\n",
       "      <th>Noise - Street/Sidewalk</th>\n",
       "      <td>3.217912</td>\n",
       "    </tr>\n",
       "    <tr>\n",
       "      <th>Noise - Vehicle</th>\n",
       "      <td>3.383090</td>\n",
       "    </tr>\n",
       "    <tr>\n",
       "      <th>Posting Advertisement</th>\n",
       "      <td>1.938901</td>\n",
       "    </tr>\n",
       "    <tr>\n",
       "      <th>Traffic</th>\n",
       "      <td>3.202991</td>\n",
       "    </tr>\n",
       "    <tr>\n",
       "      <th>Vending</th>\n",
       "      <td>3.801838</td>\n",
       "    </tr>\n",
       "  </tbody>\n",
       "</table>\n",
       "</div>"
      ],
      "text/plain": [
       "                          Request Closing Time\n",
       "Complaint Type                                \n",
       "Animal Abuse                          4.627397\n",
       "Blocked Driveway                      4.382400\n",
       "Derelict Vehicle                      5.582929\n",
       "Disorderly Youth                      3.484604\n",
       "Drinking                              3.611536\n",
       "Graffiti                              5.664526\n",
       "Illegal Parking                       4.132335\n",
       "Noise - Commercial                    2.982225\n",
       "Noise - House of Worship              2.964972\n",
       "Noise - Park                          3.243770\n",
       "Noise - Street/Sidewalk               3.217912\n",
       "Noise - Vehicle                       3.383090\n",
       "Posting Advertisement                 1.938901\n",
       "Traffic                               3.202991\n",
       "Vending                               3.801838"
      ]
     },
     "execution_count": 47,
     "metadata": {},
     "output_type": "execute_result"
    }
   ],
   "source": [
    "g1 = df[['Request Closing Time','Complaint Type']].groupby(by='Complaint Type')\n",
    "g1.mean()"
   ]
  },
  {
   "cell_type": "markdown",
   "metadata": {},
   "source": [
    ">Hypothesis Testing\n",
    "H0 : Request Closing Time of Noise- Street/Sidewalk & Blocked Driveway are equal.\n",
    "HA : Request Closing Time of Noise- Street/Sidewalk & Blocked Driveway are not equal."
   ]
  },
  {
   "cell_type": "code",
   "execution_count": 48,
   "metadata": {},
   "outputs": [],
   "source": [
    "NS = g1.get_group('Noise - Street/Sidewalk')\n",
    "BD = g1.get_group('Blocked Driveway')"
   ]
  },
  {
   "cell_type": "code",
   "execution_count": 49,
   "metadata": {},
   "outputs": [
    {
     "name": "stdout",
     "output_type": "stream",
     "text": [
      "Mean for Street Request Closing Time    4.3824\n",
      "dtype: float64 \n",
      " Mean for Driveway Request Closing Time    3.217912\n",
      "dtype: float64\n",
      "Std for Street Request Closing Time    3.984315\n",
      "dtype: float64 \n",
      " Std for Driveway Request Closing Time    3.313308\n",
      "dtype: float64\n"
     ]
    }
   ],
   "source": [
    "m1 = NS.mean()\n",
    "s1 = NS.std() # pandas cal dof -> (n-1)\n",
    "\n",
    "m2= BD.mean()\n",
    "s2 = BD.std()\n",
    "\n",
    "print('Mean for Street {} \\n Mean for Driveway {}'.format(m2,m1))\n",
    "print('Std for Street {} \\n Std for Driveway {}'.format(s2,s1))"
   ]
  },
  {
   "cell_type": "code",
   "execution_count": 50,
   "metadata": {},
   "outputs": [
    {
     "name": "stdout",
     "output_type": "stream",
     "text": [
      "47745 76675\n"
     ]
    }
   ],
   "source": [
    "n1 = len(NS)\n",
    "n2= len(BD)\n",
    "print(n1,n2)"
   ]
  },
  {
   "cell_type": "code",
   "execution_count": 51,
   "metadata": {},
   "outputs": [
    {
     "name": "stdout",
     "output_type": "stream",
     "text": [
      "SP_2 = Request Closing Time    12.857085\n",
      "dtype: float64\n"
     ]
    }
   ],
   "source": [
    "dof = n1+n2-2\n",
    "sp_2 = ((n2-1)*s1**2  + (n1-1)*s2**2) / dof\n",
    "print('SP_2 =',sp_2)"
   ]
  },
  {
   "cell_type": "code",
   "execution_count": 52,
   "metadata": {},
   "outputs": [
    {
     "name": "stdout",
     "output_type": "stream",
     "text": [
      "SP Request Closing Time    3.585678\n",
      "dtype: float64\n"
     ]
    }
   ],
   "source": [
    "sp = np.sqrt(sp_2)\n",
    "print('SP',sp)"
   ]
  },
  {
   "cell_type": "code",
   "execution_count": 53,
   "metadata": {},
   "outputs": [
    {
     "data": {
      "text/plain": [
       "-55.70696700915817"
      ]
     },
     "execution_count": 53,
     "metadata": {},
     "output_type": "execute_result"
    }
   ],
   "source": [
    "# t - value\n",
    "t_val = (m1-m2)/(sp * np.sqrt(1/n1 + 1/n2))\n",
    "t_val[0]"
   ]
  },
  {
   "cell_type": "code",
   "execution_count": 54,
   "metadata": {},
   "outputs": [
    {
     "data": {
      "text/plain": [
       "124418"
      ]
     },
     "execution_count": 54,
     "metadata": {},
     "output_type": "execute_result"
    }
   ],
   "source": [
    "dof"
   ]
  },
  {
   "cell_type": "code",
   "execution_count": 55,
   "metadata": {},
   "outputs": [],
   "source": [
    "from scipy import stats"
   ]
  },
  {
   "cell_type": "code",
   "execution_count": 56,
   "metadata": {},
   "outputs": [
    {
     "data": {
      "text/plain": [
       "0.0"
      ]
     },
     "execution_count": 56,
     "metadata": {},
     "output_type": "execute_result"
    }
   ],
   "source": [
    "# t-distribution\n",
    "stats.t.cdf(-55.70696700915817,dof) "
   ]
  },
  {
   "cell_type": "code",
   "execution_count": 57,
   "metadata": {},
   "outputs": [
    {
     "data": {
      "text/plain": [
       "-1.9599830516679304"
      ]
     },
     "execution_count": 57,
     "metadata": {},
     "output_type": "execute_result"
    }
   ],
   "source": [
    "# t-distribution\n",
    "stats.t.ppf(0.025,dof) "
   ]
  },
  {
   "cell_type": "code",
   "execution_count": 58,
   "metadata": {},
   "outputs": [
    {
     "data": {
      "text/plain": [
       "1.95998305166793"
      ]
     },
     "execution_count": 58,
     "metadata": {},
     "output_type": "execute_result"
    }
   ],
   "source": [
    "stats.t.ppf(0.975,dof)"
   ]
  },
  {
   "cell_type": "markdown",
   "metadata": {},
   "source": [
    "Rejecting Null Hypothesis therefore :- Request Closing Time of Noise-Street/Sidewalk & Blocked Driveway are not equal"
   ]
  },
  {
   "cell_type": "markdown",
   "metadata": {},
   "source": [
    ">Hypothesis Testing\n",
    "H0 : Request Closing Time of Noise - Commercial & House of Worship are equal.\n",
    "HA : Request Closing Time of Noise - Commercial & House of Worship are not equal."
   ]
  },
  {
   "cell_type": "code",
   "execution_count": 59,
   "metadata": {},
   "outputs": [],
   "source": [
    "NC = g1.get_group('Noise - Commercial')\n",
    "NW = g1.get_group('Noise - House of Worship')"
   ]
  },
  {
   "cell_type": "code",
   "execution_count": 60,
   "metadata": {},
   "outputs": [
    {
     "name": "stdout",
     "output_type": "stream",
     "text": [
      "Mean for Commercial Request Closing Time    2.982225\n",
      "dtype: float64 \n",
      " Mean for Worship Request Closing Time    2.964972\n",
      "dtype: float64\n",
      "Std for Commercial Request Closing Time    3.041621\n",
      "dtype: float64 \n",
      " Std for Worship Request Closing Time    3.286749\n",
      "dtype: float64\n"
     ]
    }
   ],
   "source": [
    "m3 = NC.mean()\n",
    "s3 = NC.std()\n",
    "\n",
    "m4 = NW.mean()\n",
    "s4 = NW.std()\n",
    "print('Mean for Commercial {} \\n Mean for Worship {}'.format(m3,m4))\n",
    "print('Std for Commercial {} \\n Std for Worship {}'.format(s3,s4))\n"
   ]
  },
  {
   "cell_type": "code",
   "execution_count": 61,
   "metadata": {},
   "outputs": [
    {
     "name": "stdout",
     "output_type": "stream",
     "text": [
      "35144 920\n"
     ]
    }
   ],
   "source": [
    "n3 = len(NC)\n",
    "n4= len(NW)\n",
    "print(n3,n4)"
   ]
  },
  {
   "cell_type": "code",
   "execution_count": 62,
   "metadata": {},
   "outputs": [
    {
     "name": "stdout",
     "output_type": "stream",
     "text": [
      "SPP_2 = Request Closing Time    10.763189\n",
      "dtype: float64\n"
     ]
    }
   ],
   "source": [
    "doF = n3+n4-2\n",
    "Sp_2 = ((n4-1)*s3**2  + (n3-1)*s4**2) / doF\n",
    "print('SPP_2 =',Sp_2)"
   ]
  },
  {
   "cell_type": "code",
   "execution_count": 63,
   "metadata": {},
   "outputs": [
    {
     "name": "stdout",
     "output_type": "stream",
     "text": [
      "SPP Request Closing Time    3.28073\n",
      "dtype: float64\n"
     ]
    }
   ],
   "source": [
    "spp = np.sqrt(Sp_2)\n",
    "print('SPP',spp)"
   ]
  },
  {
   "cell_type": "code",
   "execution_count": 64,
   "metadata": {},
   "outputs": [
    {
     "data": {
      "text/plain": [
       "0.15745971509080817"
      ]
     },
     "execution_count": 64,
     "metadata": {},
     "output_type": "execute_result"
    }
   ],
   "source": [
    "t_value = (m3-m4)/(spp * np.sqrt(1/n3 + 1/n4))\n",
    "t_value[0]"
   ]
  },
  {
   "cell_type": "code",
   "execution_count": 112,
   "metadata": {},
   "outputs": [
    {
     "data": {
      "text/plain": [
       "0.5625582819742658"
      ]
     },
     "execution_count": 112,
     "metadata": {},
     "output_type": "execute_result"
    }
   ],
   "source": [
    "stats.t.cdf(0.15745971509080817,doF) #pvalue"
   ]
  },
  {
   "cell_type": "code",
   "execution_count": 97,
   "metadata": {},
   "outputs": [
    {
     "data": {
      "text/plain": [
       "-1.9600297698403761"
      ]
     },
     "execution_count": 97,
     "metadata": {},
     "output_type": "execute_result"
    }
   ],
   "source": [
    "# t-distribution\n",
    "stats.t.ppf(0.025,doF) "
   ]
  },
  {
   "cell_type": "code",
   "execution_count": 98,
   "metadata": {},
   "outputs": [
    {
     "data": {
      "text/plain": [
       "1.9600297698403757"
      ]
     },
     "execution_count": 98,
     "metadata": {},
     "output_type": "execute_result"
    }
   ],
   "source": [
    "stats.t.ppf(0.975,doF)"
   ]
  },
  {
   "cell_type": "markdown",
   "metadata": {},
   "source": [
    "Accepting Null Hypothesis so therefore :- Request Closing Time of Noise - Commercial & Noise-House of Worship are equal"
   ]
  },
  {
   "cell_type": "markdown",
   "metadata": {},
   "source": [
    ">Hypothesis Testing\n",
    "H0 : Request Closing Time of Vending & Drinking are equal.\n",
    "HA : Request Closing Time of Vending & Drinking are not equal."
   ]
  },
  {
   "cell_type": "code",
   "execution_count": 99,
   "metadata": {},
   "outputs": [],
   "source": [
    "V = g1.get_group('Vending')\n",
    "D = g1.get_group('Drinking')"
   ]
  },
  {
   "cell_type": "code",
   "execution_count": 101,
   "metadata": {},
   "outputs": [
    {
     "name": "stdout",
     "output_type": "stream",
     "text": [
      "Mean for Vending Request Closing Time    3.801838\n",
      "dtype: float64 \n",
      " Drinking Request Closing Time    3.611536\n",
      "dtype: float64\n",
      "Std for Vending Request Closing Time    3.694817\n",
      "dtype: float64 \n",
      " Drinking Request Closing Time    3.46818\n",
      "dtype: float64\n"
     ]
    }
   ],
   "source": [
    "m5 = V.mean()\n",
    "s5 = V.std()\n",
    "\n",
    "m6 = D.mean()\n",
    "s6 = D.std()\n",
    "print('Mean for Vending {} \\n Drinking {}'.format(m5,m6))\n",
    "print('Std for Vending {} \\n Drinking {}'.format(s5,s6))"
   ]
  },
  {
   "cell_type": "code",
   "execution_count": 103,
   "metadata": {},
   "outputs": [
    {
     "name": "stdout",
     "output_type": "stream",
     "text": [
      "3773 1270\n"
     ]
    }
   ],
   "source": [
    "n5 = len(V)\n",
    "n6= len(D)\n",
    "print(n5,n6)"
   ]
  },
  {
   "cell_type": "code",
   "execution_count": 104,
   "metadata": {},
   "outputs": [
    {
     "name": "stdout",
     "output_type": "stream",
     "text": [
      "SPP_2VD = Request Closing Time    12.43694\n",
      "dtype: float64\n"
     ]
    }
   ],
   "source": [
    "dofVD = n5+n6-2\n",
    "sp_2VD = ((n6-1)*s5**2  + (n5-1)*s6**2) / dofVD\n",
    "print('SPP_2VD =',sp_2VD)"
   ]
  },
  {
   "cell_type": "code",
   "execution_count": 105,
   "metadata": {},
   "outputs": [
    {
     "name": "stdout",
     "output_type": "stream",
     "text": [
      "SPP Request Closing Time    3.526605\n",
      "dtype: float64\n"
     ]
    }
   ],
   "source": [
    "sppVD = np.sqrt(sp_2VD)\n",
    "print('SPP',sppVD)"
   ]
  },
  {
   "cell_type": "code",
   "execution_count": 106,
   "metadata": {},
   "outputs": [
    {
     "data": {
      "text/plain": [
       "1.663362729461974"
      ]
     },
     "execution_count": 106,
     "metadata": {},
     "output_type": "execute_result"
    }
   ],
   "source": [
    "t_value = (m5-m6)/(sppVD * np.sqrt(1/n5 + 1/n6))\n",
    "t_value[0]"
   ]
  },
  {
   "cell_type": "code",
   "execution_count": 110,
   "metadata": {},
   "outputs": [
    {
     "data": {
      "text/plain": [
       "0.9518489951881599"
      ]
     },
     "execution_count": 110,
     "metadata": {},
     "output_type": "execute_result"
    }
   ],
   "source": [
    "stats.t.cdf(1.663362729461974,dofVD)  #p value"
   ]
  },
  {
   "cell_type": "code",
   "execution_count": 107,
   "metadata": {},
   "outputs": [
    {
     "data": {
      "text/plain": [
       "-1.9604346909949961"
      ]
     },
     "execution_count": 107,
     "metadata": {},
     "output_type": "execute_result"
    }
   ],
   "source": [
    "stats.t.ppf(0.025,dofVD) "
   ]
  },
  {
   "cell_type": "code",
   "execution_count": 108,
   "metadata": {},
   "outputs": [
    {
     "data": {
      "text/plain": [
       "1.9604346909949957"
      ]
     },
     "execution_count": 108,
     "metadata": {},
     "output_type": "execute_result"
    }
   ],
   "source": [
    "stats.t.ppf(0.975,dofVD) "
   ]
  },
  {
   "cell_type": "markdown",
   "metadata": {},
   "source": [
    "So, Accepting Null Hypothesis therefore :- Request Closing Time of Vending & Drining are equal"
   ]
  },
  {
   "cell_type": "markdown",
   "metadata": {},
   "source": [
    ">Hypothesis Testing\n",
    "H0 : Request Closing Time of Illegal Parking & Animal Abuse are equal.\n",
    "HA : Request Closing Time of illegal Parking & Animal Abuse are not equal."
   ]
  },
  {
   "cell_type": "code",
   "execution_count": 114,
   "metadata": {},
   "outputs": [],
   "source": [
    "IP = g1.get_group('Illegal Parking')\n",
    "AA = g1.get_group(\"Animal Abuse\")"
   ]
  },
  {
   "cell_type": "code",
   "execution_count": 116,
   "metadata": {},
   "outputs": [
    {
     "name": "stdout",
     "output_type": "stream",
     "text": [
      "Mean for Ilegal Parking & Animal Abuse is Request Closing Time    4.132335\n",
      "dtype: float64 & Request Closing Time    4.627397\n",
      "dtype: float64\n",
      "Standard Deviation for Illegal Parking & Animal Abuse is Request Closing Time    3.918185\n",
      "dtype: float64 &Request Closing Time    4.251318\n",
      "dtype: float64\n"
     ]
    }
   ],
   "source": [
    "m7 = IP.mean()\n",
    "s7= IP.std()\n",
    "\n",
    "m8 = AA.mean()\n",
    "s8 = AA.std()\n",
    "\n",
    "print(f\"Mean for Ilegal Parking & Animal Abuse is {m7} & {m8}\")\n",
    "print(f\"Standard Deviation for Illegal Parking & Animal Abuse is {s7} &{s8}\")"
   ]
  },
  {
   "cell_type": "code",
   "execution_count": 117,
   "metadata": {},
   "outputs": [
    {
     "name": "stdout",
     "output_type": "stream",
     "text": [
      "74020 7743\n"
     ]
    }
   ],
   "source": [
    "n7 = len(IP)\n",
    "n8 = len(AA)\n",
    "print(n7,n8)"
   ]
  },
  {
   "cell_type": "code",
   "execution_count": 122,
   "metadata": {},
   "outputs": [
    {
     "name": "stdout",
     "output_type": "stream",
     "text": [
      "SP_2IPAA= Request Closing Time    17.816002\n",
      "dtype: float64\n"
     ]
    }
   ],
   "source": [
    "dofIPAA = n7+n8-2\n",
    "sp_2IPAA = ((n8-1)*s7**2 + (n7-1)*s8**2) / dofIPAA\n",
    "print('SP_2IPAA=',sp_2IPAA)"
   ]
  },
  {
   "cell_type": "code",
   "execution_count": 123,
   "metadata": {},
   "outputs": [
    {
     "name": "stdout",
     "output_type": "stream",
     "text": [
      "sp Request Closing Time    4.220901\n",
      "dtype: float64\n"
     ]
    }
   ],
   "source": [
    "spIPAA = np.sqrt(sp_2IPAA)\n",
    "print('sp',spIPAA)"
   ]
  },
  {
   "cell_type": "code",
   "execution_count": 124,
   "metadata": {},
   "outputs": [
    {
     "data": {
      "text/plain": [
       "-11.559489397362185"
      ]
     },
     "execution_count": 124,
     "metadata": {},
     "output_type": "execute_result"
    }
   ],
   "source": [
    "t_val = (m7-m8)/(sp*np.sqrt(1/n7+1/n8))\n",
    "t_val[0]"
   ]
  },
  {
   "cell_type": "code",
   "execution_count": 125,
   "metadata": {},
   "outputs": [
    {
     "data": {
      "text/plain": [
       "3.4931189531154016e-31"
      ]
     },
     "execution_count": 125,
     "metadata": {},
     "output_type": "execute_result"
    }
   ],
   "source": [
    "stats.t.cdf(-11.559489397362185,dofIPAA)"
   ]
  },
  {
   "cell_type": "code",
   "execution_count": 126,
   "metadata": {},
   "outputs": [
    {
     "data": {
      "text/plain": [
       "-1.959992999666484"
      ]
     },
     "execution_count": 126,
     "metadata": {},
     "output_type": "execute_result"
    }
   ],
   "source": [
    "stats.t.ppf(0.025,dofIPAA)"
   ]
  },
  {
   "cell_type": "code",
   "execution_count": 128,
   "metadata": {},
   "outputs": [
    {
     "data": {
      "text/plain": [
       "1.9599929996664835"
      ]
     },
     "execution_count": 128,
     "metadata": {},
     "output_type": "execute_result"
    }
   ],
   "source": [
    "stats.t.ppf(0.975,dofIPAA)"
   ]
  },
  {
   "cell_type": "markdown",
   "metadata": {},
   "source": [
    "Rejecting Null Hypothesis so therefore :- Request Closing Time of Illegal Parking and Animal Abuse are not equal"
   ]
  },
  {
   "cell_type": "markdown",
   "metadata": {},
   "source": [
    "# Q5b) Are the type of complaint or service requested and location related?"
   ]
  },
  {
   "cell_type": "markdown",
   "metadata": {},
   "source": [
    "if they are related what should be case ?\n",
    "    - there are speicific kind of complaints related to located\n",
    "    - assocation\n",
    "\n",
    "if they are not related what should be case ?\n",
    "    - complaints are not depends on location\n",
    "    - independent\n",
    "    \n",
    "- HO: No Related (no association)\n",
    "    - alpha > 0.05\n",
    "- HA: Realted (association)\n",
    "    - alpha < 0.05\n",
    "\n",
    "## $ChiSquare = \\frac{\\sum (f_e - f_o)^2} { f_e} $\n"
   ]
  },
  {
   "cell_type": "code",
   "execution_count": 130,
   "metadata": {},
   "outputs": [
    {
     "data": {
      "text/html": [
       "<div>\n",
       "<style scoped>\n",
       "    .dataframe tbody tr th:only-of-type {\n",
       "        vertical-align: middle;\n",
       "    }\n",
       "\n",
       "    .dataframe tbody tr th {\n",
       "        vertical-align: top;\n",
       "    }\n",
       "\n",
       "    .dataframe thead th {\n",
       "        text-align: right;\n",
       "    }\n",
       "</style>\n",
       "<table border=\"1\" class=\"dataframe\">\n",
       "  <thead>\n",
       "    <tr style=\"text-align: right;\">\n",
       "      <th>Complaint Type</th>\n",
       "      <th>Animal Abuse</th>\n",
       "      <th>Blocked Driveway</th>\n",
       "      <th>Derelict Vehicle</th>\n",
       "      <th>Disorderly Youth</th>\n",
       "      <th>Drinking</th>\n",
       "      <th>Graffiti</th>\n",
       "      <th>Illegal Parking</th>\n",
       "      <th>Noise - Commercial</th>\n",
       "      <th>Noise - House of Worship</th>\n",
       "      <th>Noise - Park</th>\n",
       "      <th>Noise - Street/Sidewalk</th>\n",
       "      <th>Noise - Vehicle</th>\n",
       "      <th>Posting Advertisement</th>\n",
       "      <th>Traffic</th>\n",
       "      <th>Vending</th>\n",
       "      <th>All</th>\n",
       "    </tr>\n",
       "    <tr>\n",
       "      <th>Location Type</th>\n",
       "      <th></th>\n",
       "      <th></th>\n",
       "      <th></th>\n",
       "      <th></th>\n",
       "      <th></th>\n",
       "      <th></th>\n",
       "      <th></th>\n",
       "      <th></th>\n",
       "      <th></th>\n",
       "      <th></th>\n",
       "      <th></th>\n",
       "      <th></th>\n",
       "      <th></th>\n",
       "      <th></th>\n",
       "      <th></th>\n",
       "      <th></th>\n",
       "    </tr>\n",
       "  </thead>\n",
       "  <tbody>\n",
       "    <tr>\n",
       "      <th>Club/Bar/Restaurant</th>\n",
       "      <td>0</td>\n",
       "      <td>0</td>\n",
       "      <td>0</td>\n",
       "      <td>0</td>\n",
       "      <td>365</td>\n",
       "      <td>0</td>\n",
       "      <td>0</td>\n",
       "      <td>16807</td>\n",
       "      <td>0</td>\n",
       "      <td>0</td>\n",
       "      <td>0</td>\n",
       "      <td>0</td>\n",
       "      <td>0</td>\n",
       "      <td>0</td>\n",
       "      <td>0</td>\n",
       "      <td>17172</td>\n",
       "    </tr>\n",
       "    <tr>\n",
       "      <th>Commercial</th>\n",
       "      <td>62</td>\n",
       "      <td>0</td>\n",
       "      <td>0</td>\n",
       "      <td>0</td>\n",
       "      <td>0</td>\n",
       "      <td>0</td>\n",
       "      <td>0</td>\n",
       "      <td>0</td>\n",
       "      <td>0</td>\n",
       "      <td>0</td>\n",
       "      <td>0</td>\n",
       "      <td>0</td>\n",
       "      <td>0</td>\n",
       "      <td>0</td>\n",
       "      <td>0</td>\n",
       "      <td>62</td>\n",
       "    </tr>\n",
       "    <tr>\n",
       "      <th>Highway</th>\n",
       "      <td>0</td>\n",
       "      <td>0</td>\n",
       "      <td>3</td>\n",
       "      <td>0</td>\n",
       "      <td>0</td>\n",
       "      <td>0</td>\n",
       "      <td>0</td>\n",
       "      <td>0</td>\n",
       "      <td>0</td>\n",
       "      <td>0</td>\n",
       "      <td>0</td>\n",
       "      <td>0</td>\n",
       "      <td>0</td>\n",
       "      <td>2</td>\n",
       "      <td>0</td>\n",
       "      <td>5</td>\n",
       "    </tr>\n",
       "    <tr>\n",
       "      <th>House and Store</th>\n",
       "      <td>93</td>\n",
       "      <td>0</td>\n",
       "      <td>0</td>\n",
       "      <td>0</td>\n",
       "      <td>0</td>\n",
       "      <td>0</td>\n",
       "      <td>0</td>\n",
       "      <td>0</td>\n",
       "      <td>0</td>\n",
       "      <td>0</td>\n",
       "      <td>0</td>\n",
       "      <td>0</td>\n",
       "      <td>0</td>\n",
       "      <td>0</td>\n",
       "      <td>0</td>\n",
       "      <td>93</td>\n",
       "    </tr>\n",
       "    <tr>\n",
       "      <th>House of Worship</th>\n",
       "      <td>0</td>\n",
       "      <td>0</td>\n",
       "      <td>0</td>\n",
       "      <td>0</td>\n",
       "      <td>0</td>\n",
       "      <td>0</td>\n",
       "      <td>0</td>\n",
       "      <td>0</td>\n",
       "      <td>920</td>\n",
       "      <td>0</td>\n",
       "      <td>0</td>\n",
       "      <td>0</td>\n",
       "      <td>0</td>\n",
       "      <td>0</td>\n",
       "      <td>0</td>\n",
       "      <td>920</td>\n",
       "    </tr>\n",
       "    <tr>\n",
       "      <th>Park/Playground</th>\n",
       "      <td>120</td>\n",
       "      <td>0</td>\n",
       "      <td>0</td>\n",
       "      <td>0</td>\n",
       "      <td>96</td>\n",
       "      <td>0</td>\n",
       "      <td>0</td>\n",
       "      <td>0</td>\n",
       "      <td>0</td>\n",
       "      <td>3927</td>\n",
       "      <td>0</td>\n",
       "      <td>0</td>\n",
       "      <td>0</td>\n",
       "      <td>0</td>\n",
       "      <td>103</td>\n",
       "      <td>4246</td>\n",
       "    </tr>\n",
       "    <tr>\n",
       "      <th>Parking Lot</th>\n",
       "      <td>109</td>\n",
       "      <td>0</td>\n",
       "      <td>0</td>\n",
       "      <td>0</td>\n",
       "      <td>0</td>\n",
       "      <td>0</td>\n",
       "      <td>0</td>\n",
       "      <td>0</td>\n",
       "      <td>0</td>\n",
       "      <td>0</td>\n",
       "      <td>0</td>\n",
       "      <td>0</td>\n",
       "      <td>7</td>\n",
       "      <td>0</td>\n",
       "      <td>0</td>\n",
       "      <td>116</td>\n",
       "    </tr>\n",
       "    <tr>\n",
       "      <th>Residential Building</th>\n",
       "      <td>226</td>\n",
       "      <td>0</td>\n",
       "      <td>0</td>\n",
       "      <td>0</td>\n",
       "      <td>0</td>\n",
       "      <td>0</td>\n",
       "      <td>0</td>\n",
       "      <td>0</td>\n",
       "      <td>0</td>\n",
       "      <td>0</td>\n",
       "      <td>0</td>\n",
       "      <td>0</td>\n",
       "      <td>0</td>\n",
       "      <td>0</td>\n",
       "      <td>0</td>\n",
       "      <td>226</td>\n",
       "    </tr>\n",
       "    <tr>\n",
       "      <th>Residential Building/House</th>\n",
       "      <td>5075</td>\n",
       "      <td>0</td>\n",
       "      <td>0</td>\n",
       "      <td>77</td>\n",
       "      <td>289</td>\n",
       "      <td>56</td>\n",
       "      <td>0</td>\n",
       "      <td>0</td>\n",
       "      <td>0</td>\n",
       "      <td>0</td>\n",
       "      <td>0</td>\n",
       "      <td>0</td>\n",
       "      <td>54</td>\n",
       "      <td>0</td>\n",
       "      <td>201</td>\n",
       "      <td>5752</td>\n",
       "    </tr>\n",
       "    <tr>\n",
       "      <th>Roadway Tunnel</th>\n",
       "      <td>0</td>\n",
       "      <td>0</td>\n",
       "      <td>5</td>\n",
       "      <td>0</td>\n",
       "      <td>0</td>\n",
       "      <td>0</td>\n",
       "      <td>0</td>\n",
       "      <td>0</td>\n",
       "      <td>0</td>\n",
       "      <td>0</td>\n",
       "      <td>0</td>\n",
       "      <td>0</td>\n",
       "      <td>0</td>\n",
       "      <td>0</td>\n",
       "      <td>0</td>\n",
       "      <td>5</td>\n",
       "    </tr>\n",
       "    <tr>\n",
       "      <th>Store/Commercial</th>\n",
       "      <td>520</td>\n",
       "      <td>0</td>\n",
       "      <td>0</td>\n",
       "      <td>8</td>\n",
       "      <td>90</td>\n",
       "      <td>32</td>\n",
       "      <td>0</td>\n",
       "      <td>18337</td>\n",
       "      <td>0</td>\n",
       "      <td>0</td>\n",
       "      <td>0</td>\n",
       "      <td>0</td>\n",
       "      <td>6</td>\n",
       "      <td>0</td>\n",
       "      <td>432</td>\n",
       "      <td>19425</td>\n",
       "    </tr>\n",
       "    <tr>\n",
       "      <th>Street/Sidewalk</th>\n",
       "      <td>1516</td>\n",
       "      <td>76675</td>\n",
       "      <td>17411</td>\n",
       "      <td>200</td>\n",
       "      <td>430</td>\n",
       "      <td>25</td>\n",
       "      <td>74020</td>\n",
       "      <td>0</td>\n",
       "      <td>0</td>\n",
       "      <td>0</td>\n",
       "      <td>47745</td>\n",
       "      <td>16867</td>\n",
       "      <td>580</td>\n",
       "      <td>4254</td>\n",
       "      <td>3037</td>\n",
       "      <td>242760</td>\n",
       "    </tr>\n",
       "    <tr>\n",
       "      <th>Subway Station</th>\n",
       "      <td>22</td>\n",
       "      <td>0</td>\n",
       "      <td>0</td>\n",
       "      <td>0</td>\n",
       "      <td>0</td>\n",
       "      <td>0</td>\n",
       "      <td>0</td>\n",
       "      <td>0</td>\n",
       "      <td>0</td>\n",
       "      <td>0</td>\n",
       "      <td>0</td>\n",
       "      <td>0</td>\n",
       "      <td>0</td>\n",
       "      <td>0</td>\n",
       "      <td>0</td>\n",
       "      <td>22</td>\n",
       "    </tr>\n",
       "    <tr>\n",
       "      <th>Vacant Lot</th>\n",
       "      <td>0</td>\n",
       "      <td>0</td>\n",
       "      <td>77</td>\n",
       "      <td>0</td>\n",
       "      <td>0</td>\n",
       "      <td>0</td>\n",
       "      <td>0</td>\n",
       "      <td>0</td>\n",
       "      <td>0</td>\n",
       "      <td>0</td>\n",
       "      <td>0</td>\n",
       "      <td>0</td>\n",
       "      <td>0</td>\n",
       "      <td>0</td>\n",
       "      <td>0</td>\n",
       "      <td>77</td>\n",
       "    </tr>\n",
       "    <tr>\n",
       "      <th>All</th>\n",
       "      <td>7743</td>\n",
       "      <td>76675</td>\n",
       "      <td>17496</td>\n",
       "      <td>285</td>\n",
       "      <td>1270</td>\n",
       "      <td>113</td>\n",
       "      <td>74020</td>\n",
       "      <td>35144</td>\n",
       "      <td>920</td>\n",
       "      <td>3927</td>\n",
       "      <td>47745</td>\n",
       "      <td>16867</td>\n",
       "      <td>647</td>\n",
       "      <td>4256</td>\n",
       "      <td>3773</td>\n",
       "      <td>290881</td>\n",
       "    </tr>\n",
       "  </tbody>\n",
       "</table>\n",
       "</div>"
      ],
      "text/plain": [
       "Complaint Type              Animal Abuse  Blocked Driveway  Derelict Vehicle  \\\n",
       "Location Type                                                                  \n",
       "Club/Bar/Restaurant                    0                 0                 0   \n",
       "Commercial                            62                 0                 0   \n",
       "Highway                                0                 0                 3   \n",
       "House and Store                       93                 0                 0   \n",
       "House of Worship                       0                 0                 0   \n",
       "Park/Playground                      120                 0                 0   \n",
       "Parking Lot                          109                 0                 0   \n",
       "Residential Building                 226                 0                 0   \n",
       "Residential Building/House          5075                 0                 0   \n",
       "Roadway Tunnel                         0                 0                 5   \n",
       "Store/Commercial                     520                 0                 0   \n",
       "Street/Sidewalk                     1516             76675             17411   \n",
       "Subway Station                        22                 0                 0   \n",
       "Vacant Lot                             0                 0                77   \n",
       "All                                 7743             76675             17496   \n",
       "\n",
       "Complaint Type              Disorderly Youth  Drinking  Graffiti  \\\n",
       "Location Type                                                      \n",
       "Club/Bar/Restaurant                        0       365         0   \n",
       "Commercial                                 0         0         0   \n",
       "Highway                                    0         0         0   \n",
       "House and Store                            0         0         0   \n",
       "House of Worship                           0         0         0   \n",
       "Park/Playground                            0        96         0   \n",
       "Parking Lot                                0         0         0   \n",
       "Residential Building                       0         0         0   \n",
       "Residential Building/House                77       289        56   \n",
       "Roadway Tunnel                             0         0         0   \n",
       "Store/Commercial                           8        90        32   \n",
       "Street/Sidewalk                          200       430        25   \n",
       "Subway Station                             0         0         0   \n",
       "Vacant Lot                                 0         0         0   \n",
       "All                                      285      1270       113   \n",
       "\n",
       "Complaint Type              Illegal Parking  Noise - Commercial  \\\n",
       "Location Type                                                     \n",
       "Club/Bar/Restaurant                       0               16807   \n",
       "Commercial                                0                   0   \n",
       "Highway                                   0                   0   \n",
       "House and Store                           0                   0   \n",
       "House of Worship                          0                   0   \n",
       "Park/Playground                           0                   0   \n",
       "Parking Lot                               0                   0   \n",
       "Residential Building                      0                   0   \n",
       "Residential Building/House                0                   0   \n",
       "Roadway Tunnel                            0                   0   \n",
       "Store/Commercial                          0               18337   \n",
       "Street/Sidewalk                       74020                   0   \n",
       "Subway Station                            0                   0   \n",
       "Vacant Lot                                0                   0   \n",
       "All                                   74020               35144   \n",
       "\n",
       "Complaint Type              Noise - House of Worship  Noise - Park  \\\n",
       "Location Type                                                        \n",
       "Club/Bar/Restaurant                                0             0   \n",
       "Commercial                                         0             0   \n",
       "Highway                                            0             0   \n",
       "House and Store                                    0             0   \n",
       "House of Worship                                 920             0   \n",
       "Park/Playground                                    0          3927   \n",
       "Parking Lot                                        0             0   \n",
       "Residential Building                               0             0   \n",
       "Residential Building/House                         0             0   \n",
       "Roadway Tunnel                                     0             0   \n",
       "Store/Commercial                                   0             0   \n",
       "Street/Sidewalk                                    0             0   \n",
       "Subway Station                                     0             0   \n",
       "Vacant Lot                                         0             0   \n",
       "All                                              920          3927   \n",
       "\n",
       "Complaint Type              Noise - Street/Sidewalk  Noise - Vehicle  \\\n",
       "Location Type                                                          \n",
       "Club/Bar/Restaurant                               0                0   \n",
       "Commercial                                        0                0   \n",
       "Highway                                           0                0   \n",
       "House and Store                                   0                0   \n",
       "House of Worship                                  0                0   \n",
       "Park/Playground                                   0                0   \n",
       "Parking Lot                                       0                0   \n",
       "Residential Building                              0                0   \n",
       "Residential Building/House                        0                0   \n",
       "Roadway Tunnel                                    0                0   \n",
       "Store/Commercial                                  0                0   \n",
       "Street/Sidewalk                               47745            16867   \n",
       "Subway Station                                    0                0   \n",
       "Vacant Lot                                        0                0   \n",
       "All                                           47745            16867   \n",
       "\n",
       "Complaint Type              Posting Advertisement  Traffic  Vending     All  \n",
       "Location Type                                                                \n",
       "Club/Bar/Restaurant                             0        0        0   17172  \n",
       "Commercial                                      0        0        0      62  \n",
       "Highway                                         0        2        0       5  \n",
       "House and Store                                 0        0        0      93  \n",
       "House of Worship                                0        0        0     920  \n",
       "Park/Playground                                 0        0      103    4246  \n",
       "Parking Lot                                     7        0        0     116  \n",
       "Residential Building                            0        0        0     226  \n",
       "Residential Building/House                     54        0      201    5752  \n",
       "Roadway Tunnel                                  0        0        0       5  \n",
       "Store/Commercial                                6        0      432   19425  \n",
       "Street/Sidewalk                               580     4254     3037  242760  \n",
       "Subway Station                                  0        0        0      22  \n",
       "Vacant Lot                                      0        0        0      77  \n",
       "All                                           647     4256     3773  290881  "
      ]
     },
     "execution_count": 130,
     "metadata": {},
     "output_type": "execute_result"
    }
   ],
   "source": [
    "comp_loc = pd.crosstab(df['Location Type'],df['Complaint Type'],margins=True)\n",
    "comp_loc"
   ]
  },
  {
   "cell_type": "code",
   "execution_count": 131,
   "metadata": {},
   "outputs": [
    {
     "data": {
      "text/plain": [
       "290881"
      ]
     },
     "execution_count": 131,
     "metadata": {},
     "output_type": "execute_result"
    }
   ],
   "source": [
    "N = comp_loc.iloc[-1,-1]\n",
    "N"
   ]
  },
  {
   "cell_type": "code",
   "execution_count": 132,
   "metadata": {},
   "outputs": [
    {
     "data": {
      "text/plain": [
       "(15, 16)"
      ]
     },
     "execution_count": 132,
     "metadata": {},
     "output_type": "execute_result"
    }
   ],
   "source": [
    "rows,cols  = comp_loc.shape\n",
    "rows,cols"
   ]
  },
  {
   "cell_type": "code",
   "execution_count": 133,
   "metadata": {},
   "outputs": [
    {
     "name": "stdout",
     "output_type": "stream",
     "text": [
      "For 0 row and 0 col the e =457.10375033089133\n",
      "For 1 row and 0 col the e =1.6503862404213407\n",
      "For 2 row and 0 col the e =0.13309566455010813\n",
      "For 3 row and 0 col the e =2.475579360632011\n",
      "For 4 row and 0 col the e =24.489602277219895\n",
      "For 5 row and 0 col the e =113.02483833595181\n",
      "For 6 row and 0 col the e =3.087819417562508\n",
      "For 7 row and 0 col the e =6.015924037664887\n",
      "For 8 row and 0 col the e =153.11325249844438\n",
      "For 9 row and 0 col the e =0.13309566455010813\n",
      "For 10 row and 0 col the e =517.07665677717\n",
      "For 11 row and 0 col the e =6462.06070523685\n",
      "For 12 row and 0 col the e =0.5856209240204757\n",
      "For 13 row and 0 col the e =2.049673234071665\n",
      "For 0 row and 1 col the e =4526.466493170747\n",
      "For 1 row and 1 col the e =16.34293748990137\n",
      "For 2 row and 1 col the e =1.3179788298307555\n",
      "For 3 row and 1 col the e =24.514406234852054\n",
      "For 4 row and 1 col the e =242.50810468885902\n",
      "For 5 row and 1 col the e =1119.2276222922776\n",
      "For 6 row and 1 col the e =30.57710885207353\n",
      "For 7 row and 1 col the e =59.57264310835015\n",
      "For 8 row and 1 col the e =1516.202845837301\n",
      "For 9 row and 1 col the e =1.3179788298307555\n",
      "For 10 row and 1 col the e =5120.347753892485\n",
      "For 11 row and 1 col the e =63990.50814594284\n",
      "For 12 row and 1 col the e =5.799106851255324\n",
      "For 13 row and 1 col the e =20.296873979393634\n",
      "For 0 row and 2 col the e =1032.8667461951795\n",
      "For 1 row and 2 col the e =3.7291951004018826\n",
      "For 2 row and 2 col the e =0.3007415403549905\n",
      "For 3 row and 2 col the e =5.593792650602824\n",
      "For 4 row and 2 col the e =55.33644342531826\n",
      "For 5 row and 2 col the e =255.38971606945796\n",
      "For 6 row and 2 col the e =6.97720373623578\n",
      "For 7 row and 2 col the e =13.593517624045571\n",
      "For 8 row and 2 col the e =345.9730680243811\n",
      "For 9 row and 2 col the e =0.3007415403549905\n",
      "For 10 row and 2 col the e =1168.3808842791382\n",
      "For 11 row and 2 col the e =14601.6032673155\n",
      "For 12 row and 2 col the e =1.3232627775619583\n",
      "For 13 row and 2 col the e =4.631419721466854\n",
      "For 0 row and 3 col the e =16.824818396526414\n",
      "For 1 row and 3 col the e =0.06074649083302106\n",
      "For 2 row and 3 col the e =0.004898910551050086\n",
      "For 3 row and 3 col the e =0.0911197362495316\n",
      "For 4 row and 3 col the e =0.9013995413932158\n",
      "For 5 row and 3 col the e =4.1601548399517325\n",
      "For 6 row and 3 col the e =0.11365472478436199\n",
      "For 7 row and 3 col the e =0.2214307569074639\n",
      "For 8 row and 3 col the e =5.635706697928018\n",
      "For 9 row and 3 col the e =0.004898910551050086\n",
      "For 10 row and 3 col the e =19.032267490829582\n",
      "For 11 row and 3 col the e =237.85190507458375\n",
      "For 12 row and 3 col the e =0.021555206424620377\n",
      "For 13 row and 3 col the e =0.07544322248617132\n",
      "For 0 row and 4 col the e =74.97375215294227\n",
      "For 1 row and 4 col the e =0.27069488897521665\n",
      "For 2 row and 4 col the e =0.02183023298187231\n",
      "For 3 row and 4 col the e =0.406042333462825\n",
      "For 4 row and 4 col the e =4.016762868664506\n",
      "For 5 row and 4 col the e =18.538233848205966\n",
      "For 6 row and 4 col the e =0.5064614051794376\n",
      "For 7 row and 4 col the e =0.9867265307806286\n",
      "For 8 row and 4 col the e =25.113500022345907\n",
      "For 9 row and 4 col the e =0.02183023298187231\n",
      "For 10 row and 4 col the e =84.81045513457393\n",
      "For 11 row and 4 col the e =1059.9014717358646\n",
      "For 12 row and 4 col the e =0.09605302512023817\n",
      "For 13 row and 4 col the e =0.3361855879208336\n",
      "For 0 row and 5 col the e =6.670892908096438\n",
      "For 1 row and 5 col the e =0.024085450751338177\n",
      "For 2 row and 5 col the e =0.0019423750605917884\n",
      "For 3 row and 5 col the e =0.036128176127007264\n",
      "For 4 row and 5 col the e =0.35739701114888905\n",
      "For 5 row and 5 col the e =1.6494649014545466\n",
      "For 6 row and 5 col the e =0.04506310140572949\n",
      "For 7 row and 5 col the e =0.08779535273874883\n",
      "For 8 row and 5 col the e =2.2345082697047935\n",
      "For 9 row and 5 col the e =0.0019423750605917884\n",
      "For 10 row and 5 col the e =7.546127110399098\n",
      "For 11 row and 5 col the e =94.30619394185251\n",
      "For 12 row and 5 col the e =0.00854645026660387\n",
      "For 13 row and 5 col the e =0.02991257593311354\n",
      "For 0 row and 6 col the e =4369.730027055738\n",
      "For 1 row and 6 col the e =15.777035970035856\n",
      "For 2 row and 6 col the e =1.2723416104867626\n",
      "For 3 row and 6 col the e =23.665553955053785\n",
      "For 4 row and 6 col the e =234.1108563295643\n",
      "For 5 row and 6 col the e =1080.4724956253588\n",
      "For 6 row and 6 col the e =29.51832536329289\n",
      "For 7 row and 6 col the e =57.50984079400167\n",
      "For 8 row and 6 col the e =1463.7017887039717\n",
      "For 9 row and 6 col the e =1.2723416104867626\n",
      "For 10 row and 6 col the e =4943.047156741073\n",
      "For 11 row and 6 col the e =61774.7298723533\n",
      "For 12 row and 6 col the e =5.5983030861417555\n",
      "For 13 row and 6 col the e =19.594060801496145\n",
      "For 0 row and 7 col the e =2074.706728868506\n",
      "For 1 row and 7 col the e =7.490788329248043\n",
      "For 2 row and 7 col the e =0.6040958330038745\n",
      "For 3 row and 7 col the e =11.236182493872064\n",
      "For 4 row and 7 col the e =111.1536332727129\n",
      "For 5 row and 7 col the e =512.9981813868902\n",
      "For 6 row and 7 col the e =14.015023325689887\n",
      "For 7 row and 7 col the e =27.305131651775124\n",
      "For 8 row and 7 col the e =694.9518462876572\n",
      "For 9 row and 7 col the e =0.6040958330038745\n",
      "For 10 row and 7 col the e =2346.9123112200523\n",
      "For 11 row and 7 col the e =29330.060884004113\n",
      "For 12 row and 7 col the e =2.6580216652170474\n",
      "For 13 row and 7 col the e =9.303075828259667\n",
      "For 0 row and 8 col the e =54.31169447299755\n",
      "For 1 row and 8 col the e =0.1960939353206294\n",
      "For 2 row and 8 col the e =0.015814027041986242\n",
      "For 3 row and 8 col the e =0.2941409029809441\n",
      "For 4 row and 8 col the e =2.9097809757254685\n",
      "For 5 row and 8 col the e =13.429271764054716\n",
      "For 6 row and 8 col the e =0.3668854273740808\n",
      "For 7 row and 8 col the e =0.7147940222977781\n",
      "For 8 row and 8 col the e =18.192456709100973\n",
      "For 9 row and 8 col the e =0.015814027041986242\n",
      "For 10 row and 8 col the e =61.437495058116546\n",
      "For 11 row and 8 col the e =767.8026409425161\n",
      "For 12 row and 8 col the e =0.06958171898473946\n",
      "For 13 row and 8 col the e =0.24353601644658812\n",
      "For 0 row and 9 col the e =231.82828716897976\n",
      "For 1 row and 9 col the e =0.8370227000044692\n",
      "For 2 row and 9 col the e =0.0675018306455217\n",
      "For 3 row and 9 col the e =1.2555340500067038\n",
      "For 4 row and 9 col the e =12.420336838775995\n",
      "For 5 row and 9 col the e =57.322554584177034\n",
      "For 6 row and 9 col the e =1.5660424709761036\n",
      "For 7 row and 9 col the e =3.051082745177581\n",
      "For 8 row and 9 col the e =77.65410597460817\n",
      "For 9 row and 9 col the e =0.0675018306455217\n",
      "For 10 row and 9 col the e =262.24461205785184\n",
      "For 11 row and 9 col the e =3277.3488815013698\n",
      "For 12 row and 9 col the e =0.2970080548402955\n",
      "For 13 row and 9 col the e =1.0395281919410344\n",
      "For 0 row and 10 col the e =2818.59983979703\n",
      "For 1 row and 10 col the e =10.176635806395055\n",
      "For 2 row and 10 col the e =0.8206964359996012\n",
      "For 3 row and 10 col the e =15.264953709592582\n",
      "For 4 row and 10 col the e =151.00814422392662\n",
      "For 5 row and 10 col the e =696.9354134508613\n",
      "For 6 row and 10 col the e =19.040157315190747\n",
      "For 7 row and 10 col the e =37.09547890718198\n",
      "For 8 row and 10 col the e =944.1291799739412\n",
      "For 9 row and 10 col the e =0.8206964359996012\n",
      "For 10 row and 10 col the e =3188.405653858451\n",
      "For 11 row and 10 col the e =39846.45336065264\n",
      "For 12 row and 10 col the e =3.6110643183982454\n",
      "For 13 row and 10 col the e =12.638725114393859\n",
      "For 0 row and 11 col the e =995.7340768217931\n",
      "For 1 row and 11 col the e =3.595126529405496\n",
      "For 2 row and 11 col the e =0.28992955882302385\n",
      "For 3 row and 11 col the e =5.392689794108244\n",
      "For 4 row and 11 col the e =53.347038823436385\n",
      "For 5 row and 11 col the e =246.20818135251184\n",
      "For 6 row and 11 col the e =6.726365764694154\n",
      "For 7 row and 11 col the e =13.104816058800678\n",
      "For 8 row and 11 col the e =333.5349644700066\n",
      "For 9 row and 11 col the e =0.28992955882302385\n",
      "For 10 row and 11 col the e =1126.3763360274477\n",
      "For 11 row and 11 col the e =14076.659939975454\n",
      "For 12 row and 11 col the e =1.275690058821305\n",
      "For 13 row and 11 col the e =4.464915205874568\n",
      "For 0 row and 12 col the e =38.19528948264067\n",
      "For 1 row and 12 col the e =0.1379051914700513\n",
      "For 2 row and 12 col the e =0.011121386408875108\n",
      "For 3 row and 12 col the e =0.206857787205077\n",
      "For 4 row and 12 col the e =2.0463350992330196\n",
      "For 5 row and 12 col the e =9.44428133841674\n",
      "For 6 row and 12 col the e =0.2580161646859025\n",
      "For 7 row and 12 col the e =0.5026866656811548\n",
      "For 8 row and 12 col the e =12.794042924769924\n",
      "For 9 row and 12 col the e =0.011121386408875108\n",
      "For 10 row and 12 col the e =43.20658619847979\n",
      "For 11 row and 12 col the e =539.9655529237042\n",
      "For 12 row and 12 col the e =0.04893410019905047\n",
      "For 13 row and 12 col the e =0.17126935069667665\n",
      "For 0 row and 13 col the e =251.2506213881278\n",
      "For 1 row and 13 col the e =0.9071475964397813\n",
      "For 2 row and 13 col the e =0.07315706422901462\n",
      "For 3 row and 13 col the e =1.360721394659672\n",
      "For 4 row and 13 col the e =13.460899818138689\n",
      "For 5 row and 13 col the e =62.12497894327921\n",
      "For 6 row and 13 col the e =1.697243890113139\n",
      "For 7 row and 13 col the e =3.3066993031514604\n",
      "For 8 row and 13 col the e =84.15988668905841\n",
      "For 9 row and 13 col the e =0.07315706422901462\n",
      "For 10 row and 13 col the e =284.21519452972177\n",
      "For 11 row and 13 col the e =3551.9217824471175\n",
      "For 12 row and 13 col the e =0.3218910826076643\n",
      "For 13 row and 13 col the e =1.1266187891268251\n",
      "For 0 row and 14 col the e =222.73698178980408\n",
      "For 1 row and 14 col the e =0.8041982803964508\n",
      "For 2 row and 14 col the e =0.06485470003197184\n",
      "For 3 row and 14 col the e =1.2062974205946762\n",
      "For 4 row and 14 col the e =11.933264805882818\n",
      "For 5 row and 14 col the e =55.07461126715049\n",
      "For 6 row and 14 col the e =1.5046290407417466\n",
      "For 7 row and 14 col the e =2.931432441445127\n",
      "For 8 row and 14 col the e =74.60884691678041\n",
      "For 9 row and 14 col the e =0.06485470003197184\n",
      "For 10 row and 14 col the e =251.9605096242106\n",
      "For 11 row and 14 col the e =3148.8253959522967\n",
      "For 12 row and 14 col the e =0.28536068014067606\n",
      "For 13 row and 14 col the e =0.9987623804923663\n"
     ]
    }
   ],
   "source": [
    "E_ij =np.zeros((rows-1,cols-1))\n",
    "for i in range(cols-1):\n",
    "    for j in range(rows-1):\n",
    "        e = (comp_loc.iloc[-1,i] * comp_loc.iloc[j,-1])/N\n",
    "        print('For {} row and {} col the e ={}'.format(j,i,e))\n",
    "        E_ij[j,i] = e"
   ]
  },
  {
   "cell_type": "code",
   "execution_count": 134,
   "metadata": {},
   "outputs": [],
   "source": [
    "# E_ij\n",
    "O_ij =  comp_loc.iloc[:-1,:-1].values"
   ]
  },
  {
   "cell_type": "code",
   "execution_count": 135,
   "metadata": {},
   "outputs": [
    {
     "data": {
      "text/plain": [
       "((14, 15), (14, 15))"
      ]
     },
     "execution_count": 135,
     "metadata": {},
     "output_type": "execute_result"
    }
   ],
   "source": [
    "O_ij.shape, E_ij.shape"
   ]
  },
  {
   "cell_type": "code",
   "execution_count": 136,
   "metadata": {},
   "outputs": [],
   "source": [
    "def chisquare_value(fe,fo):\n",
    "    chisqure = np.square(fe-fo)/fe\n",
    "    return chisqure"
   ]
  },
  {
   "cell_type": "code",
   "execution_count": 137,
   "metadata": {},
   "outputs": [],
   "source": [
    "chisqure_list = []\n",
    "n_row,n_col = O_ij.shape\n",
    "for i in range(n_row):\n",
    "    for j in range(n_col):\n",
    "        chisqure_list.append(\n",
    "            chisquare_value(E_ij[i,j], O_ij[i,j]))"
   ]
  },
  {
   "cell_type": "code",
   "execution_count": 138,
   "metadata": {},
   "outputs": [
    {
     "name": "stdout",
     "output_type": "stream",
     "text": [
      "chisquare_value = 1036031.2859946307\n"
     ]
    }
   ],
   "source": [
    "chisquare_value = sum(chisqure_list)\n",
    "print('chisquare_value =',chisquare_value)"
   ]
  },
  {
   "cell_type": "code",
   "execution_count": 139,
   "metadata": {},
   "outputs": [
    {
     "name": "stdout",
     "output_type": "stream",
     "text": [
      "Degree of Freedom = 182\n"
     ]
    }
   ],
   "source": [
    "DOF = (n_row-1)*(n_col-1)\n",
    "print('Degree of Freedom =',DOF)"
   ]
  },
  {
   "cell_type": "code",
   "execution_count": 142,
   "metadata": {},
   "outputs": [],
   "source": [
    "alpha = stats.chi2.pdf(1036031.2859946307,182)"
   ]
  },
  {
   "cell_type": "code",
   "execution_count": 141,
   "metadata": {},
   "outputs": [],
   "source": [
    "pval = 1-alpha"
   ]
  },
  {
   "cell_type": "code",
   "execution_count": 143,
   "metadata": {},
   "outputs": [
    {
     "name": "stdout",
     "output_type": "stream",
     "text": [
      "the alpha = 0.0\n"
     ]
    }
   ],
   "source": [
    "print('the alpha =',alpha)"
   ]
  },
  {
   "cell_type": "markdown",
   "metadata": {},
   "source": [
    "# Since alpha is less than 0.05 hence , complaint or service requested and location related"
   ]
  },
  {
   "cell_type": "code",
   "execution_count": null,
   "metadata": {},
   "outputs": [],
   "source": []
  }
 ],
 "metadata": {
  "kernelspec": {
   "display_name": "Python 3",
   "language": "python",
   "name": "python3"
  },
  "language_info": {
   "codemirror_mode": {
    "name": "ipython",
    "version": 3
   },
   "file_extension": ".py",
   "mimetype": "text/x-python",
   "name": "python",
   "nbconvert_exporter": "python",
   "pygments_lexer": "ipython3",
   "version": "3.8.3"
  }
 },
 "nbformat": 4,
 "nbformat_minor": 4
}
